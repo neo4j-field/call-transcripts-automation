{
 "cells": [
  {
   "cell_type": "markdown",
   "metadata": {},
   "source": [
    "[![Open In Colab](https://colab.research.google.com/assets/colab-badge.svg)](https://colab.research.google.com/github/jeffneo/call-transcripts-automation/blob/main/students/3_Cleanup.ipynb)"
   ]
  },
  {
   "cell_type": "code",
   "execution_count": null,
   "metadata": {
    "vscode": {
     "languageId": "plaintext"
    }
   },
   "outputs": [],
   "source": [
    "%%capture\n",
    "!pip --quiet install python-dotenv neo4j graphdatascience\n",
    "!pip --quiet install langchain_neo4j langchain_openai langgraph"
   ]
  },
  {
   "cell_type": "code",
   "execution_count": null,
   "metadata": {
    "vscode": {
     "languageId": "plaintext"
    }
   },
   "outputs": [],
   "source": []
  },
  {
   "cell_type": "markdown",
   "metadata": {},
   "source": [
    "## Dotenv configuration"
   ]
  },
  {
   "cell_type": "code",
   "execution_count": null,
   "metadata": {
    "vscode": {
     "languageId": "plaintext"
    }
   },
   "outputs": [],
   "source": [
    "# NOTE: Upload files (.env)!!!!\n",
    "# You can skip this cell if not using a ws.env file - alternative to above\n",
    "from dotenv import load_dotenv\n",
    "import os\n",
    "\n",
    "if os.path.exists('aura.txt'):\n",
    "     load_dotenv('aura.txt', override=True)\n",
    "\n",
    "     # Neo4j\n",
    "     NEO4J_URI = os.getenv('NEO4J_URI')\n",
    "     NEO4J_USERNAME = os.getenv('NEO4J_USERNAME')\n",
    "     NEO4J_PASSWORD = os.getenv('NEO4J_PASSWORD')\n",
    "\n",
    "     AURA_API_CLIENT_ID=os.getenv('AURA_API_CLIENT_ID')\n",
    "     AURA_API_CLIENT_SECRET=os.getenv('AURA_API_CLIENT_SECRET')\n",
    "\n",
    "     IS_AURA = os.environ.get(\"AURA\", True) is True\n",
    "\n",
    "     # AI\n",
    "     LLM = 'gpt-4o'\n",
    "     AZURE_OPENAI_API_KEY = os.getenv('AZURE_OPENAI_API_KEY')\n",
    "\n",
    "print(IS_AURA)\n",
    "print(AZURE_OPENAI_API_KEY)"
   ]
  },
  {
   "cell_type": "markdown",
   "metadata": {},
   "source": [
    "## Connecting to Neo4j\n",
    "\n",
    "Provide your Neo4j credentials. We need the DB conection URL, the username (probably neo4j), and your password."
   ]
  },
  {
   "cell_type": "code",
   "execution_count": null,
   "metadata": {
    "vscode": {
     "languageId": "plaintext"
    }
   },
   "outputs": [],
   "source": [
    "# # username is neo4j by default\n",
    "# NEO4J_USERNAME = 'neo4j'\n",
    "\n",
    "# # You will need to change these to match your credentials\n",
    "# NEO4J_URI = 'neo4j+s://a51c4bb3.databases.neo4j.io'\n",
    "# NEO4J_PASSWORD = 'R50r64jHpBzFgxZS6tttK7MXwO5agK6syL-Pznw5m_Y'"
   ]
  },
  {
   "cell_type": "code",
   "execution_count": null,
   "metadata": {
    "vscode": {
     "languageId": "plaintext"
    }
   },
   "outputs": [],
   "source": [
    "from neo4j import GraphDatabase\n",
    "\n",
    "# You can skip this cell if not using a ws.env file - alternative to above\n",
    "# Get credentials from .env file\n",
    "NEO4J_URI = os.getenv('NEO4J_URI')\n",
    "NEO4J_USERNAME = os.getenv('NEO4J_USERNAME')\n",
    "NEO4J_PASSWORD = os.getenv('NEO4J_PASSWORD')\n",
    "\n",
    "# with GraphDatabase.driver(NEO4J_URI, auth=(NEO4J_USERNAME, NEO4J_PASSWORD)) as kg:\n",
    "#     kg.verify_connectivity()\n",
    "\n",
    "kg = GraphDatabase.driver(NEO4J_URI, auth=(NEO4J_USERNAME, NEO4J_PASSWORD))"
   ]
  },
  {
   "cell_type": "code",
   "execution_count": null,
   "metadata": {
    "vscode": {
     "languageId": "plaintext"
    }
   },
   "outputs": [],
   "source": [
    "# from graphdatascience import GraphDataScience\n",
    "\n",
    "# gds = GraphDataScience(\n",
    "#     NEO4J_URI,\n",
    "#     auth=(NEO4J_USERNAME, NEO4J_PASSWORD),\n",
    "#     aura_ds=False\n",
    "# )\n",
    "# gds.set_database('neo4j')"
   ]
  },
  {
   "cell_type": "markdown",
   "metadata": {},
   "source": [
    "# Cleanup everything"
   ]
  },
  {
   "cell_type": "code",
   "execution_count": null,
   "metadata": {
    "vscode": {
     "languageId": "plaintext"
    }
   },
   "outputs": [],
   "source": [
    "graph_db.query(\"\"\"\n",
    "  MATCH (n)\n",
    "  CALL (n) {\n",
    "    DETACH DELETE n\n",
    "  } IN TRANSACTIONS OF 1000 ROWS\n",
    "  \"\"\")"
   ]
  },
  {
   "cell_type": "markdown",
   "metadata": {},
   "source": [
    "# Cleanup Post Ingestion"
   ]
  },
  {
   "cell_type": "code",
   "execution_count": null,
   "metadata": {
    "vscode": {
     "languageId": "plaintext"
    }
   },
   "outputs": [],
   "source": [
    "graph_db.query(\"\"\"\n",
    "  MATCH (n:Observation|ProcessElement)\n",
    "  CALL (n) {\n",
    "    DETACH DELETE n\n",
    "  } IN TRANSACTIONS OF 1000 ROWS\n",
    "  \"\"\")"
   ]
  }
 ],
 "metadata": {
  "language_info": {
   "name": "python"
  }
 },
 "nbformat": 4,
 "nbformat_minor": 2
}
