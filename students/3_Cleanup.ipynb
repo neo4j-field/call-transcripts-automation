{
  "cells": [
    {
      "cell_type": "markdown",
      "metadata": {
        "id": "SR8CBhnZbTgY"
      },
      "source": [
        "[![Open In Colab](https://colab.research.google.com/assets/colab-badge.svg)](https://colab.research.google.com/github/neo4j-field/call-transcripts-automation/blob/main/students/3_Cleanup.ipynb)"
      ]
    },
    {
      "cell_type": "code",
      "execution_count": 15,
      "metadata": {
        "id": "6MT5SHkabTgf",
        "vscode": {
          "languageId": "plaintext"
        }
      },
      "outputs": [],
      "source": [
        "%%capture\n",
        "!pip --quiet install python-dotenv neo4j graphdatascience\n",
        "!pip --quiet install langchain_neo4j langchain_openai langgraph"
      ]
    },
    {
      "cell_type": "markdown",
      "source": [
        "**Update Student's environment code (received via email)**"
      ],
      "metadata": {
        "id": "pMAwFU9YaU4J"
      }
    },
    {
      "cell_type": "code",
      "source": [
        "STUDENT_ENV_CODE=\"0797\""
      ],
      "metadata": {
        "id": "7e9SV-B2YnvE"
      },
      "execution_count": 16,
      "outputs": []
    },
    {
      "cell_type": "markdown",
      "metadata": {
        "id": "5-pscnQybTgg"
      },
      "source": [
        "## Dotenv configuration"
      ]
    },
    {
      "cell_type": "markdown",
      "source": [
        "## Load env file from S3"
      ],
      "metadata": {
        "id": "2f1zDY12Xr0q"
      }
    },
    {
      "cell_type": "code",
      "source": [
        "import requests\n",
        "\n",
        "# GCS URL\n",
        "GCS_FILE_URL = \"https://storage.googleapis.com/neo4j-nodes-network/atlanta/student/\"+STUDENT_ENV_CODE+\"/aura.txt\"\n",
        "\n",
        "# Local filename to save\n",
        "LOCAL_ENV_FILE = \"aura.env\"\n",
        "\n",
        "# Fetch the file and write it locally\n",
        "response = requests.get(GCS_FILE_URL)\n",
        "if response.status_code == 200:\n",
        "    with open(LOCAL_ENV_FILE, \"wb\") as f:\n",
        "        f.write(response.content)\n",
        "    print(f\"✅ Environment file downloaded and saved as {LOCAL_ENV_FILE}\")\n",
        "else:\n",
        "    raise Exception(f\"❌ Failed to fetch the .env file: {response.status_code}\")"
      ],
      "metadata": {
        "id": "0fEW9YRbWOGN",
        "outputId": "de3da11d-1868-4a0c-8e38-8f06f3c33fcd",
        "colab": {
          "base_uri": "https://localhost:8080/"
        }
      },
      "execution_count": 17,
      "outputs": [
        {
          "output_type": "stream",
          "name": "stdout",
          "text": [
            "✅ Environment file downloaded and saved as aura.env\n"
          ]
        }
      ]
    },
    {
      "cell_type": "code",
      "execution_count": 18,
      "metadata": {
        "colab": {
          "base_uri": "https://localhost:8080/"
        },
        "id": "nSTBiwtubTgg",
        "outputId": "116848a2-1cd2-4020-8930-af5decf8dd02",
        "vscode": {
          "languageId": "plaintext"
        }
      },
      "outputs": [
        {
          "output_type": "stream",
          "name": "stdout",
          "text": [
            "OPENAI_KEY: 6CgahPtoFmvzqh2gsBzef795O95YTMrIHg4KqNjYfOjvbC3BTdXmJQQJ99BCACYeBjFXJ3w3AAABACOGtZuK\n"
          ]
        }
      ],
      "source": [
        "# NOTE: Upload files (.env)!!!!\n",
        "# You can skip this cell if not using a ws.env file - alternative to above\n",
        "from dotenv import load_dotenv\n",
        "import os\n",
        "\n",
        "if os.path.exists(LOCAL_ENV_FILE):\n",
        "     load_dotenv(LOCAL_ENV_FILE, override=True)\n",
        "\n",
        "     # Neo4j\n",
        "     NEO4J_URI = os.getenv('NEO4J_URI')\n",
        "     NEO4J_USERNAME = os.getenv('NEO4J_USERNAME')\n",
        "     NEO4J_PASSWORD = os.getenv('NEO4J_PASSWORD')\n",
        "\n",
        "     AURA_API_CLIENT_ID=os.getenv('AURA_API_CLIENT_ID')\n",
        "     AURA_API_CLIENT_SECRET=os.getenv('AURA_API_CLIENT_SECRET')\n",
        "\n",
        "     IS_AURA = os.environ.get(\"AURA\", True) is True\n",
        "\n",
        "     # AI\n",
        "     LLM = 'gpt-4o'\n",
        "     AZURE_OPENAI_API_KEY = os.getenv('AZURE_OPENAI_API_KEY')\n",
        "\n",
        "print(f\"OPENAI_KEY: {AZURE_OPENAI_API_KEY}\")"
      ]
    },
    {
      "cell_type": "markdown",
      "metadata": {
        "id": "VxiTAMghbTgg"
      },
      "source": [
        "## Connecting to Neo4j\n",
        "\n",
        "Provide your Neo4j credentials. We need the DB conection URL, the username (probably neo4j), and your password."
      ]
    },
    {
      "cell_type": "code",
      "execution_count": 19,
      "metadata": {
        "id": "-InmhfKkbTgh",
        "vscode": {
          "languageId": "plaintext"
        }
      },
      "outputs": [],
      "source": [
        "# # username is neo4j by default\n",
        "# NEO4J_USERNAME = 'neo4j'\n",
        "\n",
        "# # You will need to change these to match your credentials\n",
        "# NEO4J_URI = 'neo4j+s://a51c4bb3.databases.neo4j.io'\n",
        "# NEO4J_PASSWORD = 'R50r64jHpBzFgxZS6tttK7MXwO5agK6syL-Pznw5m_Y'"
      ]
    },
    {
      "cell_type": "code",
      "execution_count": 20,
      "metadata": {
        "id": "xza3ZtxtbTgh",
        "vscode": {
          "languageId": "plaintext"
        }
      },
      "outputs": [],
      "source": [
        "from langchain_neo4j import Neo4jGraph\n",
        "\n",
        "# You can skip this cell if not using a ws.env file - alternative to above\n",
        "# Get credentials from .env file\n",
        "NEO4J_URI = os.getenv('NEO4J_URI')\n",
        "NEO4J_USERNAME = os.getenv('NEO4J_USERNAME')\n",
        "NEO4J_PASSWORD = os.getenv('NEO4J_PASSWORD')\n",
        "\n",
        "graph_db = Neo4jGraph(url=os.getenv(\"NEO4J_URI\"), username=os.getenv(\"NEO4J_USERNAME\"), password=os.getenv(\"NEO4J_PASSWORD\"))"
      ]
    },
    {
      "cell_type": "code",
      "execution_count": 21,
      "metadata": {
        "id": "j6lQkY2-bTgh",
        "vscode": {
          "languageId": "plaintext"
        }
      },
      "outputs": [],
      "source": [
        "# from graphdatascience import GraphDataScience\n",
        "\n",
        "# gds = GraphDataScience(\n",
        "#     NEO4J_URI,\n",
        "#     auth=(NEO4J_USERNAME, NEO4J_PASSWORD),\n",
        "#     aura_ds=False\n",
        "# )\n",
        "# gds.set_database('neo4j')"
      ]
    },
    {
      "cell_type": "markdown",
      "metadata": {
        "id": "r00sWrUhbTgh"
      },
      "source": [
        "# Cleanup Post Ingestion"
      ]
    },
    {
      "cell_type": "code",
      "execution_count": 22,
      "metadata": {
        "colab": {
          "base_uri": "https://localhost:8080/"
        },
        "id": "S7m2a2N1bTgh",
        "outputId": "09d90fe2-2d88-45f7-daf3-975fe1bfb621",
        "vscode": {
          "languageId": "plaintext"
        }
      },
      "outputs": [
        {
          "output_type": "execute_result",
          "data": {
            "text/plain": [
              "[{'deleted': 1089}]"
            ]
          },
          "metadata": {},
          "execution_count": 22
        }
      ],
      "source": [
        "graph_db.query(\"\"\"\n",
        "  MATCH (n:Observation|ProcessElement)\n",
        "  CALL (n) {\n",
        "    DETACH DELETE n\n",
        "  } IN TRANSACTIONS OF 1000 ROWS\n",
        "  return count(n) as deleted\n",
        "  \"\"\")"
      ]
    },
    {
      "cell_type": "markdown",
      "metadata": {
        "id": "4T9ZgbZkbTgh"
      },
      "source": [
        "# Cleanup everything"
      ]
    },
    {
      "cell_type": "code",
      "execution_count": 23,
      "metadata": {
        "colab": {
          "base_uri": "https://localhost:8080/"
        },
        "id": "DhLFeyumbTgh",
        "outputId": "43e9f79c-a657-478b-8607-16831e1b04bc",
        "vscode": {
          "languageId": "plaintext"
        }
      },
      "outputs": [
        {
          "output_type": "execute_result",
          "data": {
            "text/plain": [
              "[{'deleted': 922}]"
            ]
          },
          "metadata": {},
          "execution_count": 23
        }
      ],
      "source": [
        "graph_db.query(\"\"\"\n",
        "  MATCH (n)\n",
        "  CALL (n) {\n",
        "    DETACH DELETE n\n",
        "  } IN TRANSACTIONS OF 1000 ROWS\n",
        "  return count(n) as deleted\n",
        "  \"\"\")"
      ]
    },
    {
      "cell_type": "markdown",
      "source": [
        "# Drop Constraints"
      ],
      "metadata": {
        "id": "ovG_mN3ud0-i"
      }
    },
    {
      "cell_type": "code",
      "source": [
        "graph_db.query(\"DROP CONSTRAINT commentId IF EXISTS\")\n",
        "graph_db.query(\"DROP CONSTRAINT callId IF EXISTS\")\n",
        "graph_db.query(\"DROP CONSTRAINT entityName IF EXISTS\")\n",
        "graph_db.query(\"DROP CONSTRAINT customerId IF EXISTS\")\n",
        "graph_db.query(\"DROP CONSTRAINT representativeId IF EXISTS\")\n",
        "graph_db.query(\"DROP CONSTRAINT observationId IF EXISTS\")\n",
        "graph_db.query(\"DROP CONSTRAINT processElementId IF EXISTS\")"
      ],
      "metadata": {
        "id": "jmezsI5Pdz7n",
        "outputId": "c64a9412-77dc-4336-9a08-dc90335f304c",
        "colab": {
          "base_uri": "https://localhost:8080/"
        }
      },
      "execution_count": 24,
      "outputs": [
        {
          "output_type": "execute_result",
          "data": {
            "text/plain": [
              "[]"
            ]
          },
          "metadata": {},
          "execution_count": 24
        }
      ]
    }
  ],
  "metadata": {
    "colab": {
      "provenance": [],
      "toc_visible": true
    },
    "kernelspec": {
      "display_name": "Python 3",
      "name": "python3"
    },
    "language_info": {
      "name": "python"
    }
  },
  "nbformat": 4,
  "nbformat_minor": 0
}