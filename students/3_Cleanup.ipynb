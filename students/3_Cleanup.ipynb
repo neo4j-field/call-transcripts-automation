{
  "cells": [
    {
      "cell_type": "markdown",
      "metadata": {
        "id": "SR8CBhnZbTgY"
      },
      "source": [
        "[![Open In Colab](https://colab.research.google.com/assets/colab-badge.svg)](https://colab.research.google.com/github/jeffneo/call-transcripts-automation/blob/main/students/3_Cleanup.ipynb)"
      ]
    },
    {
      "cell_type": "code",
      "execution_count": 1,
      "metadata": {
        "vscode": {
          "languageId": "plaintext"
        },
        "id": "6MT5SHkabTgf"
      },
      "outputs": [],
      "source": [
        "%%capture\n",
        "!pip --quiet install python-dotenv neo4j graphdatascience\n",
        "!pip --quiet install langchain_neo4j langchain_openai langgraph"
      ]
    },
    {
      "cell_type": "markdown",
      "metadata": {
        "id": "5-pscnQybTgg"
      },
      "source": [
        "## Dotenv configuration"
      ]
    },
    {
      "cell_type": "code",
      "execution_count": 2,
      "metadata": {
        "vscode": {
          "languageId": "plaintext"
        },
        "colab": {
          "base_uri": "https://localhost:8080/"
        },
        "id": "nSTBiwtubTgg",
        "outputId": "3501bc71-4e55-42b0-c930-8ffabe4419bb"
      },
      "outputs": [
        {
          "output_type": "stream",
          "name": "stdout",
          "text": [
            "True\n",
            "6CgahPtoFmvzqh2gsBzef795O95YTMrIHg4KqNjYfOjvbC3BTdXmJQQJ99BCACYeBjFXJ3w3AAABACOGtZuK\n"
          ]
        }
      ],
      "source": [
        "# NOTE: Upload files (.env)!!!!\n",
        "# You can skip this cell if not using a ws.env file - alternative to above\n",
        "from dotenv import load_dotenv\n",
        "import os\n",
        "\n",
        "if os.path.exists('aura.txt'):\n",
        "     load_dotenv('aura.txt', override=True)\n",
        "\n",
        "     # Neo4j\n",
        "     NEO4J_URI = os.getenv('NEO4J_URI')\n",
        "     NEO4J_USERNAME = os.getenv('NEO4J_USERNAME')\n",
        "     NEO4J_PASSWORD = os.getenv('NEO4J_PASSWORD')\n",
        "\n",
        "     AURA_API_CLIENT_ID=os.getenv('AURA_API_CLIENT_ID')\n",
        "     AURA_API_CLIENT_SECRET=os.getenv('AURA_API_CLIENT_SECRET')\n",
        "\n",
        "     IS_AURA = os.environ.get(\"AURA\", True) is True\n",
        "\n",
        "     # AI\n",
        "     LLM = 'gpt-4o'\n",
        "     AZURE_OPENAI_API_KEY = os.getenv('AZURE_OPENAI_API_KEY')\n",
        "\n",
        "print(IS_AURA)\n",
        "print(AZURE_OPENAI_API_KEY)"
      ]
    },
    {
      "cell_type": "markdown",
      "metadata": {
        "id": "VxiTAMghbTgg"
      },
      "source": [
        "## Connecting to Neo4j\n",
        "\n",
        "Provide your Neo4j credentials. We need the DB conection URL, the username (probably neo4j), and your password."
      ]
    },
    {
      "cell_type": "code",
      "execution_count": 3,
      "metadata": {
        "vscode": {
          "languageId": "plaintext"
        },
        "id": "-InmhfKkbTgh"
      },
      "outputs": [],
      "source": [
        "# # username is neo4j by default\n",
        "# NEO4J_USERNAME = 'neo4j'\n",
        "\n",
        "# # You will need to change these to match your credentials\n",
        "# NEO4J_URI = 'neo4j+s://a51c4bb3.databases.neo4j.io'\n",
        "# NEO4J_PASSWORD = 'R50r64jHpBzFgxZS6tttK7MXwO5agK6syL-Pznw5m_Y'"
      ]
    },
    {
      "cell_type": "code",
      "execution_count": 8,
      "metadata": {
        "vscode": {
          "languageId": "plaintext"
        },
        "id": "xza3ZtxtbTgh"
      },
      "outputs": [],
      "source": [
        "from langchain_neo4j import Neo4jGraph\n",
        "\n",
        "# You can skip this cell if not using a ws.env file - alternative to above\n",
        "# Get credentials from .env file\n",
        "NEO4J_URI = os.getenv('NEO4J_URI')\n",
        "NEO4J_USERNAME = os.getenv('NEO4J_USERNAME')\n",
        "NEO4J_PASSWORD = os.getenv('NEO4J_PASSWORD')\n",
        "\n",
        "graph_db = Neo4jGraph(url=os.getenv(\"NEO4J_URI\"), username=os.getenv(\"NEO4J_USERNAME\"), password=os.getenv(\"NEO4J_PASSWORD\"))"
      ]
    },
    {
      "cell_type": "code",
      "execution_count": 5,
      "metadata": {
        "vscode": {
          "languageId": "plaintext"
        },
        "id": "j6lQkY2-bTgh"
      },
      "outputs": [],
      "source": [
        "# from graphdatascience import GraphDataScience\n",
        "\n",
        "# gds = GraphDataScience(\n",
        "#     NEO4J_URI,\n",
        "#     auth=(NEO4J_USERNAME, NEO4J_PASSWORD),\n",
        "#     aura_ds=False\n",
        "# )\n",
        "# gds.set_database('neo4j')"
      ]
    },
    {
      "cell_type": "markdown",
      "metadata": {
        "id": "r00sWrUhbTgh"
      },
      "source": [
        "# Cleanup Post Ingestion"
      ]
    },
    {
      "cell_type": "code",
      "execution_count": 13,
      "metadata": {
        "vscode": {
          "languageId": "plaintext"
        },
        "colab": {
          "base_uri": "https://localhost:8080/"
        },
        "id": "S7m2a2N1bTgh",
        "outputId": "b5a13aaf-8f78-4e06-c413-b4131d0141a3"
      },
      "outputs": [
        {
          "output_type": "execute_result",
          "data": {
            "text/plain": [
              "[{'deleted': 0}]"
            ]
          },
          "metadata": {},
          "execution_count": 13
        }
      ],
      "source": [
        "graph_db.query(\"\"\"\n",
        "  MATCH (n:Observation|ProcessElement)\n",
        "  CALL (n) {\n",
        "    DETACH DELETE n\n",
        "  } IN TRANSACTIONS OF 1000 ROWS\n",
        "  return count(n) as deleted\n",
        "  \"\"\")"
      ]
    },
    {
      "cell_type": "markdown",
      "metadata": {
        "id": "4T9ZgbZkbTgh"
      },
      "source": [
        "# Cleanup everything"
      ]
    },
    {
      "cell_type": "code",
      "execution_count": 6,
      "metadata": {
        "vscode": {
          "languageId": "plaintext"
        },
        "colab": {
          "base_uri": "https://localhost:8080/"
        },
        "id": "DhLFeyumbTgh",
        "outputId": "db6c4754-c2bf-498f-8498-49e3bfad72be"
      },
      "outputs": [
        {
          "output_type": "execute_result",
          "data": {
            "text/plain": [
              "[]"
            ]
          },
          "metadata": {},
          "execution_count": 6
        }
      ],
      "source": [
        "graph_db.query(\"\"\"\n",
        "  MATCH (n)\n",
        "  CALL (n) {\n",
        "    DETACH DELETE n\n",
        "  } IN TRANSACTIONS OF 1000 ROWS\n",
        "  return count(n) as deleted\n",
        "  \"\"\")"
      ]
    }
  ],
  "metadata": {
    "language_info": {
      "name": "python"
    },
    "colab": {
      "provenance": [],
      "toc_visible": true
    },
    "kernelspec": {
      "name": "python3",
      "display_name": "Python 3"
    }
  },
  "nbformat": 4,
  "nbformat_minor": 0
}