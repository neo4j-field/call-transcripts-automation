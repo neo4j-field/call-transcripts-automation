{
  "cells": [
    {
      "cell_type": "markdown",
      "metadata": {
        "id": "7l8l8okn7tBO"
      },
      "source": [
        "[![Open In Colab](https://colab.research.google.com/assets/colab-badge.svg)](https://colab.research.google.com/github/neo4j-field/call-transcripts-automation/blob/main/students/1_IngestTranscripts.ipynb)\n"
      ]
    },
    {
      "cell_type": "markdown",
      "metadata": {
        "id": "LU7TtmuElP9I"
      },
      "source": [
        "# Overview\n",
        "\n",
        "This is a [Python](https://www.python.org/) project for constructing a business-process aware knowledge graph for customer service automation and acceleration."
      ]
    },
    {
      "cell_type": "markdown",
      "metadata": {
        "id": "7U7UNW7gv0cm"
      },
      "source": [
        "# Setup"
      ]
    },
    {
      "cell_type": "code",
      "execution_count": 18,
      "metadata": {
        "id": "eovcELNdvbFo"
      },
      "outputs": [],
      "source": [
        "%%capture\n",
        "!pip --quiet install python-dotenv neo4j graphdatascience\n",
        "!pip --quiet install langchain_neo4j langchain_openai langgraph"
      ]
    },
    {
      "cell_type": "code",
      "execution_count": 19,
      "metadata": {
        "id": "7vI-J9kNyxv-"
      },
      "outputs": [],
      "source": [
        "import pandas as pd\n",
        "import os"
      ]
    },
    {
      "cell_type": "markdown",
      "metadata": {
        "id": "z65Gtwf9v-Ds"
      },
      "source": [
        "## Dotenv configuration"
      ]
    },
    {
      "cell_type": "code",
      "execution_count": 20,
      "metadata": {
        "colab": {
          "base_uri": "https://localhost:8080/"
        },
        "id": "X6xBubKdv9fw",
        "outputId": "6960a8a9-b0ae-4d79-c455-e3c483206e57"
      },
      "outputs": [
        {
          "name": "stdout",
          "output_type": "stream",
          "text": [
            "6CgahPtoFmvzqh2gsBzef795O95YTMrIHg4KqNjYfOjvbC3BTdXmJQQJ99BCACYeBjFXJ3w3AAABACOGtZuK\n"
          ]
        }
      ],
      "source": [
        "# NOTE: Upload files (.env)!!!!\n",
        "# You can skip this cell if not using a ws.env file - alternative to above\n",
        "from dotenv import load_dotenv\n",
        "import os\n",
        "\n",
        "if os.path.exists('aura.txt'):\n",
        "     load_dotenv('aura.txt', override=True)\n",
        "\n",
        "     # Neo4j\n",
        "     NEO4J_URI = os.getenv('NEO4J_URI')\n",
        "     NEO4J_USERNAME = os.getenv('NEO4J_USERNAME')\n",
        "     NEO4J_PASSWORD = os.getenv('NEO4J_PASSWORD')\n",
        "\n",
        "     # AI\n",
        "     LLM = 'gpt-4o'\n",
        "     AZURE_OPENAI_API_KEY = os.getenv('AZURE_OPENAI_API_KEY')\n",
        "\n",
        "print(AZURE_OPENAI_API_KEY)"
      ]
    },
    {
      "cell_type": "markdown",
      "metadata": {
        "id": "Izg0UrMdwPEa"
      },
      "source": [
        "## Connecting to Neo4j\n",
        "\n",
        "Provide your Neo4j credentials. We need the DB conection URL, the username (probably neo4j), and your password."
      ]
    },
    {
      "cell_type": "code",
      "execution_count": 21,
      "metadata": {
        "id": "ZsWKgziPwPh2"
      },
      "outputs": [],
      "source": [
        "# # username is neo4j by default\n",
        "# NEO4J_USERNAME = 'neo4j'\n",
        "\n",
        "# # You will need to change these to match your credentials\n",
        "# NEO4J_URI = 'neo4j+s://a51c4bb3.databases.neo4j.io'\n",
        "# NEO4J_PASSWORD = 'R50r64jHpBzFgxZS6tttK7MXwO5agK6syL-Pznw5m_Y'"
      ]
    },
    {
      "cell_type": "code",
      "execution_count": 22,
      "metadata": {
        "id": "JrkrONA-wZBj"
      },
      "outputs": [],
      "source": [
        "from neo4j import GraphDatabase\n",
        "\n",
        "# You can skip this cell if not using a ws.env file - alternative to above\n",
        "# Get credentials from .env file\n",
        "NEO4J_URI = os.getenv('NEO4J_URI')\n",
        "NEO4J_USERNAME = os.getenv('NEO4J_USERNAME')\n",
        "NEO4J_PASSWORD = os.getenv('NEO4J_PASSWORD')\n",
        "\n",
        "# with GraphDatabase.driver(NEO4J_URI, auth=(NEO4J_USERNAME, NEO4J_PASSWORD)) as kg:\n",
        "#     kg.verify_connectivity()\n",
        "\n",
        "kg = GraphDatabase.driver(NEO4J_URI, auth=(NEO4J_USERNAME, NEO4J_PASSWORD))"
      ]
    },
    {
      "cell_type": "code",
      "execution_count": 23,
      "metadata": {
        "id": "4y9Omuu_wj4c"
      },
      "outputs": [],
      "source": [
        "# from graphdatascience import GraphDataScience\n",
        "\n",
        "# gds = GraphDataScience(\n",
        "#     NEO4J_URI,\n",
        "#     auth=(NEO4J_USERNAME, NEO4J_PASSWORD),\n",
        "#     aura_ds=False\n",
        "# )\n",
        "# gds.set_database('neo4j')"
      ]
    },
    {
      "cell_type": "markdown",
      "metadata": {
        "id": "GENzhzygyftA"
      },
      "source": [
        "## Test connectivity"
      ]
    },
    {
      "cell_type": "code",
      "execution_count": 24,
      "metadata": {
        "colab": {
          "base_uri": "https://localhost:8080/",
          "height": 53
        },
        "id": "qlykXF0dyduQ",
        "outputId": "1f16a78e-7d57-47f0-eba4-87edc99d269b"
      },
      "outputs": [
        {
          "data": {
            "application/vnd.google.colaboratory.intrinsic+json": {
              "summary": "{\n  \"name\": \"df[:]\",\n  \"rows\": 0,\n  \"fields\": []\n}",
              "type": "dataframe"
            },
            "text/html": [
              "\n",
              "  <div id=\"df-c4782d40-9e29-408e-a6be-169634b27b10\" class=\"colab-df-container\">\n",
              "    <div>\n",
              "<style scoped>\n",
              "    .dataframe tbody tr th:only-of-type {\n",
              "        vertical-align: middle;\n",
              "    }\n",
              "\n",
              "    .dataframe tbody tr th {\n",
              "        vertical-align: top;\n",
              "    }\n",
              "\n",
              "    .dataframe thead th {\n",
              "        text-align: right;\n",
              "    }\n",
              "</style>\n",
              "<table border=\"1\" class=\"dataframe\">\n",
              "  <thead>\n",
              "    <tr style=\"text-align: right;\">\n",
              "      <th></th>\n",
              "    </tr>\n",
              "  </thead>\n",
              "  <tbody>\n",
              "  </tbody>\n",
              "</table>\n",
              "</div>\n",
              "    <div class=\"colab-df-buttons\">\n",
              "\n",
              "  <div class=\"colab-df-container\">\n",
              "    <button class=\"colab-df-convert\" onclick=\"convertToInteractive('df-c4782d40-9e29-408e-a6be-169634b27b10')\"\n",
              "            title=\"Convert this dataframe to an interactive table.\"\n",
              "            style=\"display:none;\">\n",
              "\n",
              "  <svg xmlns=\"http://www.w3.org/2000/svg\" height=\"24px\" viewBox=\"0 -960 960 960\">\n",
              "    <path d=\"M120-120v-720h720v720H120Zm60-500h600v-160H180v160Zm220 220h160v-160H400v160Zm0 220h160v-160H400v160ZM180-400h160v-160H180v160Zm440 0h160v-160H620v160ZM180-180h160v-160H180v160Zm440 0h160v-160H620v160Z\"/>\n",
              "  </svg>\n",
              "    </button>\n",
              "\n",
              "  <style>\n",
              "    .colab-df-container {\n",
              "      display:flex;\n",
              "      gap: 12px;\n",
              "    }\n",
              "\n",
              "    .colab-df-convert {\n",
              "      background-color: #E8F0FE;\n",
              "      border: none;\n",
              "      border-radius: 50%;\n",
              "      cursor: pointer;\n",
              "      display: none;\n",
              "      fill: #1967D2;\n",
              "      height: 32px;\n",
              "      padding: 0 0 0 0;\n",
              "      width: 32px;\n",
              "    }\n",
              "\n",
              "    .colab-df-convert:hover {\n",
              "      background-color: #E2EBFA;\n",
              "      box-shadow: 0px 1px 2px rgba(60, 64, 67, 0.3), 0px 1px 3px 1px rgba(60, 64, 67, 0.15);\n",
              "      fill: #174EA6;\n",
              "    }\n",
              "\n",
              "    .colab-df-buttons div {\n",
              "      margin-bottom: 4px;\n",
              "    }\n",
              "\n",
              "    [theme=dark] .colab-df-convert {\n",
              "      background-color: #3B4455;\n",
              "      fill: #D2E3FC;\n",
              "    }\n",
              "\n",
              "    [theme=dark] .colab-df-convert:hover {\n",
              "      background-color: #434B5C;\n",
              "      box-shadow: 0px 1px 3px 1px rgba(0, 0, 0, 0.15);\n",
              "      filter: drop-shadow(0px 1px 2px rgba(0, 0, 0, 0.3));\n",
              "      fill: #FFFFFF;\n",
              "    }\n",
              "  </style>\n",
              "\n",
              "    <script>\n",
              "      const buttonEl =\n",
              "        document.querySelector('#df-c4782d40-9e29-408e-a6be-169634b27b10 button.colab-df-convert');\n",
              "      buttonEl.style.display =\n",
              "        google.colab.kernel.accessAllowed ? 'block' : 'none';\n",
              "\n",
              "      async function convertToInteractive(key) {\n",
              "        const element = document.querySelector('#df-c4782d40-9e29-408e-a6be-169634b27b10');\n",
              "        const dataTable =\n",
              "          await google.colab.kernel.invokeFunction('convertToInteractive',\n",
              "                                                    [key], {});\n",
              "        if (!dataTable) return;\n",
              "\n",
              "        const docLinkHtml = 'Like what you see? Visit the ' +\n",
              "          '<a target=\"_blank\" href=https://colab.research.google.com/notebooks/data_table.ipynb>data table notebook</a>'\n",
              "          + ' to learn more about interactive tables.';\n",
              "        element.innerHTML = '';\n",
              "        dataTable['output_type'] = 'display_data';\n",
              "        await google.colab.output.renderOutput(dataTable, element);\n",
              "        const docLink = document.createElement('div');\n",
              "        docLink.innerHTML = docLinkHtml;\n",
              "        element.appendChild(docLink);\n",
              "      }\n",
              "    </script>\n",
              "  </div>\n",
              "\n",
              "\n",
              "    </div>\n",
              "  </div>\n"
            ],
            "text/plain": [
              "Empty DataFrame\n",
              "Columns: []\n",
              "Index: []"
            ]
          },
          "execution_count": 24,
          "metadata": {},
          "output_type": "execute_result"
        }
      ],
      "source": [
        "# total node counts\n",
        "res = kg.execute_query('''\n",
        "    CALL apoc.meta.stats()\n",
        "    YIELD labels\n",
        "    UNWIND keys(labels) AS nodeLabel\n",
        "    RETURN nodeLabel, labels[nodeLabel] AS nodeCount\n",
        "    ORDER BY nodeCount DESC\n",
        "''')\n",
        "\n",
        "# print(res)\n",
        "# for d in res.records:\n",
        "#     print(d.data())\n",
        "\n",
        "df = pd.DataFrame([{'nodeLabel': d['nodeLabel'],\n",
        "               'nodeCount':d['nodeCount']} for d in res.records])\n",
        "df[:]"
      ]
    },
    {
      "cell_type": "markdown",
      "metadata": {
        "id": "FXCLwdzi0n-Z"
      },
      "source": [
        "# Variables and Utility functions"
      ]
    },
    {
      "cell_type": "code",
      "execution_count": 25,
      "metadata": {
        "id": "-wvcFdrE2b2v"
      },
      "outputs": [],
      "source": [
        "from langchain_openai import OpenAIEmbeddings, AzureOpenAIEmbeddings\n",
        "\n",
        "DEFAULT_EMBEDDING_MODEL = \"text-embedding-3-small\"\n",
        "COMMENT_VECTOR_INDEX_NAME = \"commentEmbeddings\"\n",
        "ENTITY_VECTOR_INDEX_NAME = \"entityEmbeddings\"\n",
        "OBSERVATION_EMBEDDING_INDEX_NAME = \"observationEmbeddings\"\n",
        "PROCESS_ELEMENT_EMBEDDING_INDEX_NAME = \"processElementEmbeddings\"\n",
        "VECTOR_INDEX_DIM = 128\n",
        "VECTOR_EQUIVALENCE_THRESHOLD = 0.9\n",
        "DEFAULT_k = 7\n",
        "\n",
        "# embedder = OpenAIEmbeddings(model=DEFAULT_EMBEDDING_MODEL, dimensions=VECTOR_INDEX_DIM)\n",
        "\n",
        "embedder = AzureOpenAIEmbeddings(\n",
        "    azure_endpoint=os.getenv(\"AZURE_OPENAI_ENDPOINT\"),\n",
        "    model=DEFAULT_EMBEDDING_MODEL,\n",
        "    openai_api_version=\"2025-01-01-preview\",\n",
        "    dimensions=VECTOR_INDEX_DIM\n",
        ")"
      ]
    },
    {
      "cell_type": "markdown",
      "metadata": {
        "id": "OFs0vGTAk56Q"
      },
      "source": [
        "## Create Graph and Vector embeddings stores"
      ]
    },
    {
      "cell_type": "code",
      "execution_count": 26,
      "metadata": {
        "id": "-dUPJL0zyjk5"
      },
      "outputs": [],
      "source": [
        "from langchain_neo4j import Neo4jVector, Neo4jGraph\n",
        "\n",
        "def create_graph_store():\n",
        "    graph_db = Neo4jGraph(url=os.getenv(\"NEO4J_URI\"), username=os.getenv(\"NEO4J_USERNAME\"), password=os.getenv(\"NEO4J_PASSWORD\"))\n",
        "    graph_db.query(\"CREATE CONSTRAINT commentId IF NOT EXISTS FOR (c:Comment) REQUIRE c.id IS NODE KEY\")\n",
        "    graph_db.query(\"CREATE CONSTRAINT callId IF NOT EXISTS FOR (c:Call) REQUIRE c.id IS NODE KEY\")\n",
        "    graph_db.query(\"CREATE CONSTRAINT entityName IF NOT EXISTS FOR (e:Entity) REQUIRE e.name IS NODE KEY\")\n",
        "    graph_db.query(\"CREATE CONSTRAINT customerId IF NOT EXISTS FOR (c:Customer) REQUIRE c.id IS NODE KEY\")\n",
        "    graph_db.query(\"CREATE CONSTRAINT representativeId IF NOT EXISTS FOR (r:Representative) REQUIRE r.id IS NODE KEY\")\n",
        "    graph_db.query(\"CREATE CONSTRAINT observationId IF NOT EXISTS FOR (o:Observation) REQUIRE o.id IS NODE KEY\")\n",
        "    graph_db.query(\"CREATE CONSTRAINT processElementId IF NOT EXISTS FOR (p:ProcessElement) REQUIRE p.id IS NODE KEY\")\n",
        "    return graph_db"
      ]
    },
    {
      "cell_type": "code",
      "execution_count": 27,
      "metadata": {
        "id": "45aN3V2H2ABV"
      },
      "outputs": [],
      "source": [
        "# We're using multiple vector indexes because we want to query for chunks and entities separately\n",
        "def create_vector_stores():\n",
        "    comment_vector_db = Neo4jVector(\n",
        "        embedder,\n",
        "        url=os.getenv(\"NEO4J_URI\"),\n",
        "        username=os.getenv(\"NEO4J_USERNAME\"),\n",
        "        password=os.getenv(\"NEO4J_PASSWORD\"),\n",
        "        index_name=COMMENT_VECTOR_INDEX_NAME,\n",
        "        embedding_dimension=VECTOR_INDEX_DIM,\n",
        "        node_label=\"Comment\"\n",
        "    )\n",
        "    comment_vector_db.create_new_index()\n",
        "    entity_vector_db = Neo4jVector(\n",
        "        embedder,\n",
        "        url=os.getenv(\"NEO4J_URI\"),\n",
        "        username=os.getenv(\"NEO4J_USERNAME\"),\n",
        "        password=os.getenv(\"NEO4J_PASSWORD\"),\n",
        "        index_name=ENTITY_VECTOR_INDEX_NAME,\n",
        "        embedding_dimension=VECTOR_INDEX_DIM,\n",
        "        node_label=\"Entity\"\n",
        "    )\n",
        "    entity_vector_db.create_new_index()\n",
        "    observation_vector_db = Neo4jVector(\n",
        "        embedder,\n",
        "        url=os.getenv(\"NEO4J_URI\"),\n",
        "        username=os.getenv(\"NEO4J_USERNAME\"),\n",
        "        password=os.getenv(\"NEO4J_PASSWORD\"),\n",
        "        index_name=OBSERVATION_EMBEDDING_INDEX_NAME,\n",
        "        embedding_dimension=VECTOR_INDEX_DIM,\n",
        "        node_label=\"Observation\"\n",
        "    )\n",
        "    observation_vector_db.create_new_index()\n",
        "    process_element_vector_db = Neo4jVector(\n",
        "        embedder,\n",
        "        url=os.getenv(\"NEO4J_URI\"),\n",
        "        username=os.getenv(\"NEO4J_USERNAME\"),\n",
        "        password=os.getenv(\"NEO4J_PASSWORD\"),\n",
        "        index_name=PROCESS_ELEMENT_EMBEDDING_INDEX_NAME,\n",
        "        embedding_dimension=VECTOR_INDEX_DIM,\n",
        "        node_label=\"ProcessElement\"\n",
        "    )\n",
        "    process_element_vector_db.create_new_index()\n",
        "    return comment_vector_db, entity_vector_db, observation_vector_db, process_element_vector_db"
      ]
    },
    {
      "cell_type": "markdown",
      "metadata": {
        "id": "h_45RcW-keNI"
      },
      "source": [
        "# Transcript Processing Agent"
      ]
    },
    {
      "cell_type": "code",
      "execution_count": 28,
      "metadata": {
        "id": "ajtis_-K3xkm"
      },
      "outputs": [],
      "source": [
        "# from functions import write_transcripts, write_next_comments_relationships, write_entities, embed_nodes\n",
        "from langgraph.graph import StateGraph, START, END\n",
        "from typing import List, NotRequired\n",
        "from typing_extensions import TypedDict\n",
        "# from parallel import MAX_PROCESSES\n",
        "\n",
        "def transcript_processing_agent(file_uri, graph_db):\n",
        "    class Comment(TypedDict):\n",
        "        id: str\n",
        "        content: str\n",
        "        customer: NotRequired[bool]\n",
        "\n",
        "    class State(TypedDict):\n",
        "        comments: List[Comment]\n",
        "\n",
        "    def ingest_transcripts(state):\n",
        "        print(\"Ingesting transcripts...\")\n",
        "        comments = graph_db.query(\"\"\"\n",
        "              CALL apoc.load.json($fileUri)\n",
        "              YIELD value\n",
        "              WITH value\n",
        "              UNWIND value AS _call\n",
        "              MERGE (c:Call {id: _call.call_id})\n",
        "              WITH c, _call\n",
        "              UNWIND _call.messages as m\n",
        "              FOREACH (_ IN CASE WHEN m.sender = \"customer\" THEN [1] ELSE [] END |\n",
        "                  MERGE (:Customer {id: m.customer_id})\n",
        "              )\n",
        "              FOREACH (_ IN CASE WHEN m.sender = \"representative\" THEN [1] ELSE [] END |\n",
        "                  MERGE (:Representative {id: m.representative_id})\n",
        "              )\n",
        "              CREATE (comm:Comment {\n",
        "                  id: randomUUID(),\n",
        "                  timestamp: datetime(m.timestamp),\n",
        "                  content: m.message\n",
        "              })\n",
        "              WITH c, m, comm\n",
        "              MATCH (u:Customer|Representative {\n",
        "                  id: coalesce(m.customer_id, m.representative_id)\n",
        "              })\n",
        "              CREATE (u)-[:MADE]->(comm)\n",
        "              CREATE (c)-[:HAS]->(comm)\n",
        "              RETURN comm.id AS id, comm.content AS content, u:Customer AS customer\n",
        "          \"\"\", {\"fileUri\": file_uri})\n",
        "        return {\"comments\": comments}\n",
        "\n",
        "    def link_transcript_comments(state):\n",
        "        print(\"Linking transcript comments...\")\n",
        "        # print(\"Writing NEXT_COMMENTS relationships...\")\n",
        "        graph_db.query(\"\"\"\n",
        "            MATCH (c:Call)\n",
        "            MATCH (c)-[:HAS]->(comm:Comment)\n",
        "            WITH c, collect(comm) AS comments\n",
        "            WITH c, apoc.coll.sortMaps(comments, \"^timestamp\") AS sortedComments\n",
        "            MATCH (first:Comment {id: sortedComments[0].id})\n",
        "            MERGE (c)-[:FIRST]->(first)\n",
        "            WITH c, apoc.coll.pairsMin(sortedComments) AS exchanges\n",
        "            UNWIND exchanges AS ex\n",
        "            MATCH (a:Comment {id: ex[0].id})\n",
        "            MATCH (b:Comment {id: ex[1].id})\n",
        "            MERGE (a)-[:NEXT]->(b)\n",
        "        \"\"\")\n",
        "        return {}\n",
        "\n",
        "    def write_comment_embeddings(state):\n",
        "        print(\"Embedding comments...\")\n",
        "        comments = state[\"comments\"]\n",
        "\n",
        "        label=\"Comment\"\n",
        "\n",
        "        # Embed nodes of a given label\n",
        "        # Comment nodes embed the `content` property, while other nodes embed the `description` property\n",
        "        embeddings = embedder.embed_documents([node[\"content\"] if \"content\" in node else node[\"description\"] for node in comments])\n",
        "        print(\"Storing embeddings...\")\n",
        "        graph_db.query(f\"\"\"\n",
        "            WITH $nodes AS nodes\n",
        "            UNWIND nodes AS node\n",
        "            MATCH (n:{label} {{id: node.id}})\n",
        "            WITH n, node\n",
        "            CALL db.create.setNodeVectorProperty(n, \"embedding\", node.embedding)\n",
        "        \"\"\", {\"nodes\": [{**node, \"embedding\": embedding} for node, embedding in zip(comments, embeddings)]})\n",
        "        return {}\n",
        "\n",
        "    agent_graph = StateGraph(State)\n",
        "    # nodes\n",
        "    agent_graph.add_node(\"ingest_transcripts\", ingest_transcripts)\n",
        "    agent_graph.add_node(\"link_transcript_comments\", link_transcript_comments)\n",
        "    agent_graph.add_node(\"write_comment_embeddings\", write_comment_embeddings)\n",
        "    # edges\n",
        "    agent_graph.add_edge(START, \"ingest_transcripts\")\n",
        "    agent_graph.add_edge(\"ingest_transcripts\", \"link_transcript_comments\")\n",
        "    agent_graph.add_edge(\"ingest_transcripts\", \"write_comment_embeddings\")\n",
        "    agent_graph.add_edge(\"link_transcript_comments\", END)\n",
        "    agent_graph.add_edge(\"write_comment_embeddings\", END)\n",
        "\n",
        "    agent = agent_graph.compile()\n",
        "    return agent"
      ]
    },
    {
      "cell_type": "markdown",
      "metadata": {
        "id": "kppKGKT6l8SY"
      },
      "source": [
        "# Stiching it all together"
      ]
    },
    {
      "cell_type": "code",
      "execution_count": 29,
      "metadata": {
        "id": "DDB2n3G8VTK5"
      },
      "outputs": [],
      "source": [
        "# Create the DB connection (and create constraints)\n",
        "graph_db = create_graph_store()"
      ]
    },
    {
      "cell_type": "code",
      "execution_count": 30,
      "metadata": {
        "colab": {
          "base_uri": "https://localhost:8080/"
        },
        "id": "eCQiZrCt11ej",
        "outputId": "8e159234-1699-48c4-c4e6-2ed187ab116e"
      },
      "outputs": [
        {
          "name": "stdout",
          "output_type": "stream",
          "text": [
            "Ingesting transcripts...\n",
            "Linking transcript comments...\n",
            "Embedding comments...\n",
            "Storing embeddings...\n"
          ]
        }
      ],
      "source": [
        "comment_vector_db, entity_vector_db, observation_vector_db, process_element_vector_db = create_vector_stores()\n",
        "\n",
        "file_uri = \"https://storage.googleapis.com/neo4j-se-jeff-davis/callcenter/transcripts.json\"\n",
        "\n",
        "res = transcript_processing_agent(file_uri, graph_db).invoke({\"comments\": []})"
      ]
    },
    {
      "cell_type": "code",
      "execution_count": 33,
      "metadata": {
        "colab": {
          "base_uri": "https://localhost:8080/",
          "height": 354
        },
        "id": "ggORIejk0_yC",
        "outputId": "d80014a1-a2f1-48d1-d318-5ff80541a651"
      },
      "outputs": [
        {
          "data": {
            "application/vnd.google.colaboratory.intrinsic+json": {
              "summary": "{\n  \"name\": \"df[:10]\",\n  \"rows\": 10,\n  \"fields\": [\n    {\n      \"column\": \"id\",\n      \"properties\": {\n        \"dtype\": \"string\",\n        \"num_unique_values\": 10,\n        \"samples\": [\n          \"244f67af-6bc2-4d0d-8d84-fc8d556261dc\",\n          \"5b967b30-4adb-4122-95f7-4ec65558bd13\",\n          \"b5e5f51e-8be2-4477-a2da-7039b0e261aa\"\n        ],\n        \"semantic_type\": \"\",\n        \"description\": \"\"\n      }\n    },\n    {\n      \"column\": \"content\",\n      \"properties\": {\n        \"dtype\": \"string\",\n        \"num_unique_values\": 10,\n        \"samples\": [\n          \"Hello! I'm sorry to hear that. Let me run a diagnostic on your VoIP lines. Can you provide your account number?\",\n          \"Thank you. It looks like there's a temporary issue in your area. Our technicians are working on it. In the meantime, would you be interested in upgrading to a higher-speed plan? We have a special offer for business customers.\",\n          \"Sure! We have a business bundle that includes phone lines, high-speed internet, and cloud services at a discounted rate. Would you like to know the details?\"\n        ],\n        \"semantic_type\": \"\",\n        \"description\": \"\"\n      }\n    },\n    {\n      \"column\": \"customer\",\n      \"properties\": {\n        \"dtype\": \"boolean\",\n        \"num_unique_values\": 1,\n        \"samples\": [\n          false\n        ],\n        \"semantic_type\": \"\",\n        \"description\": \"\"\n      }\n    }\n  ]\n}",
              "type": "dataframe"
            },
            "text/html": [
              "\n",
              "  <div id=\"df-cbf53c12-b443-4a68-9075-5c88a0162ce2\" class=\"colab-df-container\">\n",
              "    <div>\n",
              "<style scoped>\n",
              "    .dataframe tbody tr th:only-of-type {\n",
              "        vertical-align: middle;\n",
              "    }\n",
              "\n",
              "    .dataframe tbody tr th {\n",
              "        vertical-align: top;\n",
              "    }\n",
              "\n",
              "    .dataframe thead th {\n",
              "        text-align: right;\n",
              "    }\n",
              "</style>\n",
              "<table border=\"1\" class=\"dataframe\">\n",
              "  <thead>\n",
              "    <tr style=\"text-align: right;\">\n",
              "      <th></th>\n",
              "      <th>id</th>\n",
              "      <th>content</th>\n",
              "      <th>customer</th>\n",
              "    </tr>\n",
              "  </thead>\n",
              "  <tbody>\n",
              "    <tr>\n",
              "      <th>0</th>\n",
              "      <td>622729cf-3e78-4b83-b65b-eb6500f0191e</td>\n",
              "      <td>Hello! I'm sorry to hear that. Let me check yo...</td>\n",
              "      <td>False</td>\n",
              "    </tr>\n",
              "    <tr>\n",
              "      <th>1</th>\n",
              "      <td>5b967b30-4adb-4122-95f7-4ec65558bd13</td>\n",
              "      <td>Thank you. It looks like there's a temporary i...</td>\n",
              "      <td>False</td>\n",
              "    </tr>\n",
              "    <tr>\n",
              "      <th>2</th>\n",
              "      <td>806cd5d8-4133-47d4-950e-1ca32854bc4a</td>\n",
              "      <td>With the upgrade, you'll get double the speed ...</td>\n",
              "      <td>False</td>\n",
              "    </tr>\n",
              "    <tr>\n",
              "      <th>3</th>\n",
              "      <td>24366c30-592a-4179-9d33-164889e5cc06</td>\n",
              "      <td>Great! I've processed the upgrade. Your new pl...</td>\n",
              "      <td>False</td>\n",
              "    </tr>\n",
              "    <tr>\n",
              "      <th>4</th>\n",
              "      <td>8939d4f4-32b1-417a-a78b-6db4a2c4a96d</td>\n",
              "      <td>Hi! Yes, we can assist with that. How many add...</td>\n",
              "      <td>False</td>\n",
              "    </tr>\n",
              "    <tr>\n",
              "      <th>5</th>\n",
              "      <td>b5e5f51e-8be2-4477-a2da-7039b0e261aa</td>\n",
              "      <td>Sure! We have a business bundle that includes ...</td>\n",
              "      <td>False</td>\n",
              "    </tr>\n",
              "    <tr>\n",
              "      <th>6</th>\n",
              "      <td>353fa2d4-0623-430c-8909-09e565fe85c1</td>\n",
              "      <td>Our business bundle includes 20 phone lines, 5...</td>\n",
              "      <td>False</td>\n",
              "    </tr>\n",
              "    <tr>\n",
              "      <th>7</th>\n",
              "      <td>039e2c46-6b9c-44b0-9f55-a18d6cf8f1e7</td>\n",
              "      <td>Excellent choice! I'll process the order for y...</td>\n",
              "      <td>False</td>\n",
              "    </tr>\n",
              "    <tr>\n",
              "      <th>8</th>\n",
              "      <td>244f67af-6bc2-4d0d-8d84-fc8d556261dc</td>\n",
              "      <td>Hello! I'm sorry to hear that. Let me run a di...</td>\n",
              "      <td>False</td>\n",
              "    </tr>\n",
              "    <tr>\n",
              "      <th>9</th>\n",
              "      <td>1064e274-8629-4008-b7ef-c77afe929000</td>\n",
              "      <td>Thank you. I see that there is an issue with t...</td>\n",
              "      <td>False</td>\n",
              "    </tr>\n",
              "  </tbody>\n",
              "</table>\n",
              "</div>\n",
              "    <div class=\"colab-df-buttons\">\n",
              "\n",
              "  <div class=\"colab-df-container\">\n",
              "    <button class=\"colab-df-convert\" onclick=\"convertToInteractive('df-cbf53c12-b443-4a68-9075-5c88a0162ce2')\"\n",
              "            title=\"Convert this dataframe to an interactive table.\"\n",
              "            style=\"display:none;\">\n",
              "\n",
              "  <svg xmlns=\"http://www.w3.org/2000/svg\" height=\"24px\" viewBox=\"0 -960 960 960\">\n",
              "    <path d=\"M120-120v-720h720v720H120Zm60-500h600v-160H180v160Zm220 220h160v-160H400v160Zm0 220h160v-160H400v160ZM180-400h160v-160H180v160Zm440 0h160v-160H620v160ZM180-180h160v-160H180v160Zm440 0h160v-160H620v160Z\"/>\n",
              "  </svg>\n",
              "    </button>\n",
              "\n",
              "  <style>\n",
              "    .colab-df-container {\n",
              "      display:flex;\n",
              "      gap: 12px;\n",
              "    }\n",
              "\n",
              "    .colab-df-convert {\n",
              "      background-color: #E8F0FE;\n",
              "      border: none;\n",
              "      border-radius: 50%;\n",
              "      cursor: pointer;\n",
              "      display: none;\n",
              "      fill: #1967D2;\n",
              "      height: 32px;\n",
              "      padding: 0 0 0 0;\n",
              "      width: 32px;\n",
              "    }\n",
              "\n",
              "    .colab-df-convert:hover {\n",
              "      background-color: #E2EBFA;\n",
              "      box-shadow: 0px 1px 2px rgba(60, 64, 67, 0.3), 0px 1px 3px 1px rgba(60, 64, 67, 0.15);\n",
              "      fill: #174EA6;\n",
              "    }\n",
              "\n",
              "    .colab-df-buttons div {\n",
              "      margin-bottom: 4px;\n",
              "    }\n",
              "\n",
              "    [theme=dark] .colab-df-convert {\n",
              "      background-color: #3B4455;\n",
              "      fill: #D2E3FC;\n",
              "    }\n",
              "\n",
              "    [theme=dark] .colab-df-convert:hover {\n",
              "      background-color: #434B5C;\n",
              "      box-shadow: 0px 1px 3px 1px rgba(0, 0, 0, 0.15);\n",
              "      filter: drop-shadow(0px 1px 2px rgba(0, 0, 0, 0.3));\n",
              "      fill: #FFFFFF;\n",
              "    }\n",
              "  </style>\n",
              "\n",
              "    <script>\n",
              "      const buttonEl =\n",
              "        document.querySelector('#df-cbf53c12-b443-4a68-9075-5c88a0162ce2 button.colab-df-convert');\n",
              "      buttonEl.style.display =\n",
              "        google.colab.kernel.accessAllowed ? 'block' : 'none';\n",
              "\n",
              "      async function convertToInteractive(key) {\n",
              "        const element = document.querySelector('#df-cbf53c12-b443-4a68-9075-5c88a0162ce2');\n",
              "        const dataTable =\n",
              "          await google.colab.kernel.invokeFunction('convertToInteractive',\n",
              "                                                    [key], {});\n",
              "        if (!dataTable) return;\n",
              "\n",
              "        const docLinkHtml = 'Like what you see? Visit the ' +\n",
              "          '<a target=\"_blank\" href=https://colab.research.google.com/notebooks/data_table.ipynb>data table notebook</a>'\n",
              "          + ' to learn more about interactive tables.';\n",
              "        element.innerHTML = '';\n",
              "        dataTable['output_type'] = 'display_data';\n",
              "        await google.colab.output.renderOutput(dataTable, element);\n",
              "        const docLink = document.createElement('div');\n",
              "        docLink.innerHTML = docLinkHtml;\n",
              "        element.appendChild(docLink);\n",
              "      }\n",
              "    </script>\n",
              "  </div>\n",
              "\n",
              "\n",
              "<div id=\"df-827f8ff4-e5dc-47bd-8504-a477b04229e7\">\n",
              "  <button class=\"colab-df-quickchart\" onclick=\"quickchart('df-827f8ff4-e5dc-47bd-8504-a477b04229e7')\"\n",
              "            title=\"Suggest charts\"\n",
              "            style=\"display:none;\">\n",
              "\n",
              "<svg xmlns=\"http://www.w3.org/2000/svg\" height=\"24px\"viewBox=\"0 0 24 24\"\n",
              "     width=\"24px\">\n",
              "    <g>\n",
              "        <path d=\"M19 3H5c-1.1 0-2 .9-2 2v14c0 1.1.9 2 2 2h14c1.1 0 2-.9 2-2V5c0-1.1-.9-2-2-2zM9 17H7v-7h2v7zm4 0h-2V7h2v10zm4 0h-2v-4h2v4z\"/>\n",
              "    </g>\n",
              "</svg>\n",
              "  </button>\n",
              "\n",
              "<style>\n",
              "  .colab-df-quickchart {\n",
              "      --bg-color: #E8F0FE;\n",
              "      --fill-color: #1967D2;\n",
              "      --hover-bg-color: #E2EBFA;\n",
              "      --hover-fill-color: #174EA6;\n",
              "      --disabled-fill-color: #AAA;\n",
              "      --disabled-bg-color: #DDD;\n",
              "  }\n",
              "\n",
              "  [theme=dark] .colab-df-quickchart {\n",
              "      --bg-color: #3B4455;\n",
              "      --fill-color: #D2E3FC;\n",
              "      --hover-bg-color: #434B5C;\n",
              "      --hover-fill-color: #FFFFFF;\n",
              "      --disabled-bg-color: #3B4455;\n",
              "      --disabled-fill-color: #666;\n",
              "  }\n",
              "\n",
              "  .colab-df-quickchart {\n",
              "    background-color: var(--bg-color);\n",
              "    border: none;\n",
              "    border-radius: 50%;\n",
              "    cursor: pointer;\n",
              "    display: none;\n",
              "    fill: var(--fill-color);\n",
              "    height: 32px;\n",
              "    padding: 0;\n",
              "    width: 32px;\n",
              "  }\n",
              "\n",
              "  .colab-df-quickchart:hover {\n",
              "    background-color: var(--hover-bg-color);\n",
              "    box-shadow: 0 1px 2px rgba(60, 64, 67, 0.3), 0 1px 3px 1px rgba(60, 64, 67, 0.15);\n",
              "    fill: var(--button-hover-fill-color);\n",
              "  }\n",
              "\n",
              "  .colab-df-quickchart-complete:disabled,\n",
              "  .colab-df-quickchart-complete:disabled:hover {\n",
              "    background-color: var(--disabled-bg-color);\n",
              "    fill: var(--disabled-fill-color);\n",
              "    box-shadow: none;\n",
              "  }\n",
              "\n",
              "  .colab-df-spinner {\n",
              "    border: 2px solid var(--fill-color);\n",
              "    border-color: transparent;\n",
              "    border-bottom-color: var(--fill-color);\n",
              "    animation:\n",
              "      spin 1s steps(1) infinite;\n",
              "  }\n",
              "\n",
              "  @keyframes spin {\n",
              "    0% {\n",
              "      border-color: transparent;\n",
              "      border-bottom-color: var(--fill-color);\n",
              "      border-left-color: var(--fill-color);\n",
              "    }\n",
              "    20% {\n",
              "      border-color: transparent;\n",
              "      border-left-color: var(--fill-color);\n",
              "      border-top-color: var(--fill-color);\n",
              "    }\n",
              "    30% {\n",
              "      border-color: transparent;\n",
              "      border-left-color: var(--fill-color);\n",
              "      border-top-color: var(--fill-color);\n",
              "      border-right-color: var(--fill-color);\n",
              "    }\n",
              "    40% {\n",
              "      border-color: transparent;\n",
              "      border-right-color: var(--fill-color);\n",
              "      border-top-color: var(--fill-color);\n",
              "    }\n",
              "    60% {\n",
              "      border-color: transparent;\n",
              "      border-right-color: var(--fill-color);\n",
              "    }\n",
              "    80% {\n",
              "      border-color: transparent;\n",
              "      border-right-color: var(--fill-color);\n",
              "      border-bottom-color: var(--fill-color);\n",
              "    }\n",
              "    90% {\n",
              "      border-color: transparent;\n",
              "      border-bottom-color: var(--fill-color);\n",
              "    }\n",
              "  }\n",
              "</style>\n",
              "\n",
              "  <script>\n",
              "    async function quickchart(key) {\n",
              "      const quickchartButtonEl =\n",
              "        document.querySelector('#' + key + ' button');\n",
              "      quickchartButtonEl.disabled = true;  // To prevent multiple clicks.\n",
              "      quickchartButtonEl.classList.add('colab-df-spinner');\n",
              "      try {\n",
              "        const charts = await google.colab.kernel.invokeFunction(\n",
              "            'suggestCharts', [key], {});\n",
              "      } catch (error) {\n",
              "        console.error('Error during call to suggestCharts:', error);\n",
              "      }\n",
              "      quickchartButtonEl.classList.remove('colab-df-spinner');\n",
              "      quickchartButtonEl.classList.add('colab-df-quickchart-complete');\n",
              "    }\n",
              "    (() => {\n",
              "      let quickchartButtonEl =\n",
              "        document.querySelector('#df-827f8ff4-e5dc-47bd-8504-a477b04229e7 button');\n",
              "      quickchartButtonEl.style.display =\n",
              "        google.colab.kernel.accessAllowed ? 'block' : 'none';\n",
              "    })();\n",
              "  </script>\n",
              "</div>\n",
              "\n",
              "    </div>\n",
              "  </div>\n"
            ],
            "text/plain": [
              "                                     id  \\\n",
              "0  622729cf-3e78-4b83-b65b-eb6500f0191e   \n",
              "1  5b967b30-4adb-4122-95f7-4ec65558bd13   \n",
              "2  806cd5d8-4133-47d4-950e-1ca32854bc4a   \n",
              "3  24366c30-592a-4179-9d33-164889e5cc06   \n",
              "4  8939d4f4-32b1-417a-a78b-6db4a2c4a96d   \n",
              "5  b5e5f51e-8be2-4477-a2da-7039b0e261aa   \n",
              "6  353fa2d4-0623-430c-8909-09e565fe85c1   \n",
              "7  039e2c46-6b9c-44b0-9f55-a18d6cf8f1e7   \n",
              "8  244f67af-6bc2-4d0d-8d84-fc8d556261dc   \n",
              "9  1064e274-8629-4008-b7ef-c77afe929000   \n",
              "\n",
              "                                             content  customer  \n",
              "0  Hello! I'm sorry to hear that. Let me check yo...     False  \n",
              "1  Thank you. It looks like there's a temporary i...     False  \n",
              "2  With the upgrade, you'll get double the speed ...     False  \n",
              "3  Great! I've processed the upgrade. Your new pl...     False  \n",
              "4  Hi! Yes, we can assist with that. How many add...     False  \n",
              "5  Sure! We have a business bundle that includes ...     False  \n",
              "6  Our business bundle includes 20 phone lines, 5...     False  \n",
              "7  Excellent choice! I'll process the order for y...     False  \n",
              "8  Hello! I'm sorry to hear that. Let me run a di...     False  \n",
              "9  Thank you. I see that there is an issue with t...     False  "
            ]
          },
          "execution_count": 33,
          "metadata": {},
          "output_type": "execute_result"
        }
      ],
      "source": [
        "# print(res)\n",
        "\n",
        "df = pd.DataFrame(res['comments'])\n",
        "df[:10]"
      ]
    },
    {
      "cell_type": "markdown",
      "metadata": {
        "id": "TD92j8W7p5hj"
      },
      "source": [
        "# Cleanup"
      ]
    },
    {
      "cell_type": "code",
      "execution_count": 32,
      "metadata": {
        "id": "qFsKSijzp7-F"
      },
      "outputs": [],
      "source": [
        "#graph_db.query(\"MATCH (n) DETACH DELETE n\")"
      ]
    }
  ],
  "metadata": {
    "colab": {
      "provenance": [],
      "toc_visible": true
    },
    "kernelspec": {
      "display_name": "Python 3",
      "name": "python3"
    },
    "language_info": {
      "name": "python"
    }
  },
  "nbformat": 4,
  "nbformat_minor": 0
}
