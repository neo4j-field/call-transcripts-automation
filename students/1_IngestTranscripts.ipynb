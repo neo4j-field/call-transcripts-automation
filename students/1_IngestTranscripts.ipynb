{
  "cells": [
    {
      "cell_type": "markdown",
      "metadata": {
        "id": "7l8l8okn7tBO"
      },
      "source": [
        "[![Open In Colab](https://colab.research.google.com/assets/colab-badge.svg)](https://colab.research.google.com/github/neo4j-field/call-transcripts-automation/blob/main/students/1_IngestTranscripts.ipynb)\n"
      ]
    },
    {
      "cell_type": "markdown",
      "metadata": {
        "id": "LU7TtmuElP9I"
      },
      "source": [
        "# Ingesting Transcripts Overview\n",
        "\n",
        "This is a [Python](https://www.python.org/) project for constructing a business-process aware knowledge graph for customer service automation and acceleration.\n",
        "\n",
        "This notebook will use an 'agentic' approach to ingest customer service call transcripts (calls, messages, customer or representative), linking all of the entities appropriately, and lastly, creating vector embeddings of the comments.\n",
        "\n",
        "All of the entities (Customer, Representative, Call, Comments), their cooresponding relationships, and the vector embeddings are stored within Neo4j."
      ]
    },
    {
      "cell_type": "markdown",
      "metadata": {
        "id": "2FKNo7AoZJzh"
      },
      "source": [
        "**Update Student's environment code (received via email)**"
      ]
    },
    {
      "cell_type": "code",
      "execution_count": 12,
      "metadata": {
        "id": "CXq0ZhLbZIsh"
      },
      "outputs": [],
      "source": [
        "# The student's environment file (aura.env) will be downloaded into the notebook's\n",
        "# files after executing the 'Setup' section.\n",
        "STUDENT_ENV_CODE=\"6476\""
      ]
    },
    {
      "cell_type": "markdown",
      "source": [
        "# What we're ingesting\n"
      ],
      "metadata": {
        "id": "3yBGHNWY3fXS"
      }
    },
    {
      "cell_type": "code",
      "source": [
        "from IPython.display import display, JSON\n",
        "import requests\n",
        "\n",
        "file_uri = \"https://storage.googleapis.com/neo4j-se-jeff-davis/callcenter/transcripts.json\"\n",
        "\n",
        "data = requests.get(file_uri).json()\n",
        "\n",
        "display(JSON(data[:2]))"
      ],
      "metadata": {
        "id": "mTx83I7w3grr",
        "outputId": "79b3ff1c-bd25-41b6-ca37-a5f2230eae63",
        "colab": {
          "base_uri": "https://localhost:8080/",
          "height": 1000
        }
      },
      "execution_count": 14,
      "outputs": [
        {
          "output_type": "display_data",
          "data": {
            "text/plain": [
              "<IPython.core.display.JSON object>"
            ],
            "application/json": [
              {
                "call_id": "C001",
                "messages": [
                  {
                    "timestamp": "2024-05-15T08:30:00Z",
                    "sender": "customer",
                    "customer_id": "B001",
                    "message": "Hi, we're experiencing some issues with our internet connectivity. It's been very slow since this morning."
                  },
                  {
                    "timestamp": "2024-05-15T08:31:00Z",
                    "sender": "representative",
                    "representative_id": "R001",
                    "message": "Hello! I'm sorry to hear that. Let me check your connection status. Can I have your account number, please?"
                  },
                  {
                    "timestamp": "2024-05-15T08:32:00Z",
                    "sender": "customer",
                    "customer_id": "B001",
                    "message": "Sure, it's 123456."
                  },
                  {
                    "timestamp": "2024-05-15T08:34:00Z",
                    "sender": "representative",
                    "representative_id": "R001",
                    "message": "Thank you. It looks like there's a temporary issue in your area. Our technicians are working on it. In the meantime, would you be interested in upgrading to a higher-speed plan? We have a special offer for business customers."
                  },
                  {
                    "timestamp": "2024-05-15T08:35:00Z",
                    "sender": "customer",
                    "customer_id": "B001",
                    "message": "I'd like to know more about the offer. What are the benefits?"
                  },
                  {
                    "timestamp": "2024-05-15T08:36:00Z",
                    "sender": "representative",
                    "representative_id": "R001",
                    "message": "With the upgrade, you'll get double the speed and priority customer support, all for just $20 more per month."
                  },
                  {
                    "timestamp": "2024-05-15T08:37:00Z",
                    "sender": "customer",
                    "customer_id": "B001",
                    "message": "That sounds good. Let's proceed with the upgrade."
                  },
                  {
                    "timestamp": "2024-05-15T08:38:00Z",
                    "sender": "representative",
                    "representative_id": "R001",
                    "message": "Great! I've processed the upgrade. Your new plan will be effective immediately. Thank you for choosing us."
                  }
                ]
              },
              {
                "call_id": "C002",
                "messages": [
                  {
                    "timestamp": "2024-05-15T09:00:00Z",
                    "sender": "customer",
                    "customer_id": "B002",
                    "message": "Hello, we're planning to expand our office and will need more phone lines. Can you help with that?"
                  },
                  {
                    "timestamp": "2024-05-15T09:01:00Z",
                    "sender": "representative",
                    "representative_id": "R002",
                    "message": "Hi! Yes, we can assist with that. How many additional lines are you looking to add?"
                  },
                  {
                    "timestamp": "2024-05-15T09:02:00Z",
                    "sender": "customer",
                    "customer_id": "B002",
                    "message": "We need 10 more lines. Also, can you tell me about any bundled packages for businesses?"
                  },
                  {
                    "timestamp": "2024-05-15T09:03:00Z",
                    "sender": "representative",
                    "representative_id": "R002",
                    "message": "Sure! We have a business bundle that includes phone lines, high-speed internet, and cloud services at a discounted rate. Would you like to know the details?"
                  },
                  {
                    "timestamp": "2024-05-15T09:04:00Z",
                    "sender": "customer",
                    "customer_id": "B002",
                    "message": "Yes, please provide the details."
                  },
                  {
                    "timestamp": "2024-05-15T09:05:00Z",
                    "sender": "representative",
                    "representative_id": "R002",
                    "message": "Our business bundle includes 20 phone lines, 500 Mbps internet speed, and 1 TB of cloud storage for $200 per month. It also comes with 24/7 priority support."
                  },
                  {
                    "timestamp": "2024-05-15T09:06:00Z",
                    "sender": "customer",
                    "customer_id": "B002",
                    "message": "That seems like a good deal. We would like to go ahead with the business bundle."
                  },
                  {
                    "timestamp": "2024-05-15T09:07:00Z",
                    "sender": "representative",
                    "representative_id": "R002",
                    "message": "Excellent choice! I'll process the order for you. Your new services will be active by the end of the day. Thank you for choosing our services."
                  }
                ]
              }
            ]
          },
          "metadata": {
            "application/json": {
              "expanded": false,
              "root": "root"
            }
          }
        }
      ]
    },
    {
      "cell_type": "markdown",
      "metadata": {
        "id": "7U7UNW7gv0cm"
      },
      "source": [
        "# Setup"
      ]
    },
    {
      "cell_type": "code",
      "execution_count": 13,
      "metadata": {
        "id": "eovcELNdvbFo"
      },
      "outputs": [],
      "source": [
        "%%capture\n",
        "!pip --quiet install python-dotenv neo4j graphdatascience\n",
        "!pip --quiet install langchain_neo4j langchain_openai langgraph"
      ]
    },
    {
      "cell_type": "code",
      "execution_count": null,
      "metadata": {
        "id": "7vI-J9kNyxv-"
      },
      "outputs": [],
      "source": [
        "import pandas as pd\n",
        "import os"
      ]
    },
    {
      "cell_type": "markdown",
      "metadata": {
        "id": "z65Gtwf9v-Ds"
      },
      "source": [
        "## Dotenv configuration"
      ]
    },
    {
      "cell_type": "code",
      "execution_count": null,
      "metadata": {
        "colab": {
          "base_uri": "https://localhost:8080/"
        },
        "id": "GDX3CaArZZWV",
        "outputId": "2dedc47a-1f4b-42c2-ae50-8ecddaa262b2"
      },
      "outputs": [
        {
          "name": "stdout",
          "output_type": "stream",
          "text": [
            "✅ Environment file downloaded and saved as aura.env\n"
          ]
        }
      ],
      "source": [
        "# Download env file from S3\n",
        "import requests\n",
        "\n",
        "# GCS URL\n",
        "GCS_FILE_URL = \"https://storage.googleapis.com/neo4j-nodes-network-2025/students/\"+STUDENT_ENV_CODE+\"/aura.txt\"\n",
        "\n",
        "# Local filename to save\n",
        "LOCAL_ENV_FILE = \"aura.env\"\n",
        "\n",
        "# Fetch the file and write it locally\n",
        "response = requests.get(GCS_FILE_URL)\n",
        "if response.status_code == 200:\n",
        "    with open(LOCAL_ENV_FILE, \"wb\") as f:\n",
        "        f.write(response.content)\n",
        "    print(f\"✅ Environment file downloaded and saved as {LOCAL_ENV_FILE}\")\n",
        "else:\n",
        "    raise Exception(f\"❌ Failed to fetch the .env file: {response.status_code}\")"
      ]
    },
    {
      "cell_type": "code",
      "execution_count": null,
      "metadata": {
        "colab": {
          "base_uri": "https://localhost:8080/"
        },
        "id": "X6xBubKdv9fw",
        "outputId": "89ded6e9-abd3-4a1f-dff6-17e86df1757f"
      },
      "outputs": [
        {
          "name": "stdout",
          "output_type": "stream",
          "text": [
            "OPENAI_KEY: 6CgahPtoFmvzqh2gsBzef795O95YTMrIHg4KqNjYfOjvbC3BTdXmJQQJ99BCACYeBjFXJ3w3AAABACOGtZuK\n"
          ]
        }
      ],
      "source": [
        "# NOTE: Upload files (.env)!!!!\n",
        "# You can skip this cell if not using a ws.env file - alternative to above\n",
        "from dotenv import load_dotenv\n",
        "import os\n",
        "\n",
        "if os.path.exists(LOCAL_ENV_FILE):\n",
        "     load_dotenv(LOCAL_ENV_FILE, override=True)\n",
        "\n",
        "     # Neo4j\n",
        "     NEO4J_URI = os.getenv('NEO4J_URI')\n",
        "     NEO4J_USERNAME = os.getenv('NEO4J_USERNAME')\n",
        "     NEO4J_PASSWORD = os.getenv('NEO4J_PASSWORD')\n",
        "\n",
        "     # AI\n",
        "     LLM = 'gpt-4o'\n",
        "     AZURE_OPENAI_API_KEY = os.getenv('AZURE_OPENAI_API_KEY')\n",
        "\n",
        "print(f\"OPENAI_KEY: {AZURE_OPENAI_API_KEY}\")"
      ]
    },
    {
      "cell_type": "markdown",
      "metadata": {
        "id": "Izg0UrMdwPEa"
      },
      "source": [
        "## Connecting to Neo4j\n",
        "\n",
        "Provide your Neo4j credentials. We need the DB conection URL, the username (probably neo4j), and your password.\n",
        "\n",
        "If using an env file under the notebook's files folder, reference the:\n",
        "- URI\n",
        "- username\n",
        "- password\n",
        "\n",
        "Log into your Neo4j instance using https://browser.neo4j.io/."
      ]
    },
    {
      "cell_type": "code",
      "execution_count": null,
      "metadata": {
        "id": "ZsWKgziPwPh2"
      },
      "outputs": [],
      "source": [
        "# # username is neo4j by default\n",
        "# NEO4J_USERNAME = 'neo4j'\n",
        "\n",
        "# # You will need to change these to match your credentials\n",
        "# NEO4J_URI = 'neo4j+s://a51c4bb3.databases.neo4j.io'\n",
        "# NEO4J_PASSWORD = 'R50r64jHpBzFgxZS6tttK7MXwO5agK6syL-Pznw5m_Y'"
      ]
    },
    {
      "cell_type": "code",
      "execution_count": null,
      "metadata": {
        "id": "JrkrONA-wZBj"
      },
      "outputs": [],
      "source": [
        "from neo4j import GraphDatabase\n",
        "\n",
        "# You can skip this cell if not using a ws.env file - alternative to above\n",
        "# Get credentials from .env file\n",
        "NEO4J_URI = os.getenv('NEO4J_URI')\n",
        "NEO4J_USERNAME = os.getenv('NEO4J_USERNAME')\n",
        "NEO4J_PASSWORD = os.getenv('NEO4J_PASSWORD')\n",
        "\n",
        "# with GraphDatabase.driver(NEO4J_URI, auth=(NEO4J_USERNAME, NEO4J_PASSWORD)) as kg:\n",
        "#     kg.verify_connectivity()\n",
        "\n",
        "kg = GraphDatabase.driver(NEO4J_URI, auth=(NEO4J_USERNAME, NEO4J_PASSWORD))"
      ]
    },
    {
      "cell_type": "code",
      "execution_count": null,
      "metadata": {
        "id": "4y9Omuu_wj4c"
      },
      "outputs": [],
      "source": [
        "# from graphdatascience import GraphDataScience\n",
        "\n",
        "# gds = GraphDataScience(\n",
        "#     NEO4J_URI,\n",
        "#     auth=(NEO4J_USERNAME, NEO4J_PASSWORD),\n",
        "#     aura_ds=False\n",
        "# )\n",
        "# gds.set_database('neo4j')"
      ]
    },
    {
      "cell_type": "markdown",
      "metadata": {
        "id": "GENzhzygyftA"
      },
      "source": [
        "## Test connectivity"
      ]
    },
    {
      "cell_type": "code",
      "execution_count": null,
      "metadata": {
        "colab": {
          "base_uri": "https://localhost:8080/",
          "height": 73
        },
        "id": "qlykXF0dyduQ",
        "outputId": "e2f114f1-5541-4b79-cbbd-bb6979f38d95"
      },
      "outputs": [
        {
          "data": {
            "application/vnd.google.colaboratory.intrinsic+json": {
              "summary": "{\n  \"name\": \"df[:]\",\n  \"rows\": 0,\n  \"fields\": []\n}",
              "type": "dataframe"
            },
            "text/html": [
              "\n",
              "  <div id=\"df-fac6a7ca-b1f0-41a4-9a1d-bfea2eee567b\" class=\"colab-df-container\">\n",
              "    <div>\n",
              "<style scoped>\n",
              "    .dataframe tbody tr th:only-of-type {\n",
              "        vertical-align: middle;\n",
              "    }\n",
              "\n",
              "    .dataframe tbody tr th {\n",
              "        vertical-align: top;\n",
              "    }\n",
              "\n",
              "    .dataframe thead th {\n",
              "        text-align: right;\n",
              "    }\n",
              "</style>\n",
              "<table border=\"1\" class=\"dataframe\">\n",
              "  <thead>\n",
              "    <tr style=\"text-align: right;\">\n",
              "      <th></th>\n",
              "    </tr>\n",
              "  </thead>\n",
              "  <tbody>\n",
              "  </tbody>\n",
              "</table>\n",
              "</div>\n",
              "    <div class=\"colab-df-buttons\">\n",
              "\n",
              "  <div class=\"colab-df-container\">\n",
              "    <button class=\"colab-df-convert\" onclick=\"convertToInteractive('df-fac6a7ca-b1f0-41a4-9a1d-bfea2eee567b')\"\n",
              "            title=\"Convert this dataframe to an interactive table.\"\n",
              "            style=\"display:none;\">\n",
              "\n",
              "  <svg xmlns=\"http://www.w3.org/2000/svg\" height=\"24px\" viewBox=\"0 -960 960 960\">\n",
              "    <path d=\"M120-120v-720h720v720H120Zm60-500h600v-160H180v160Zm220 220h160v-160H400v160Zm0 220h160v-160H400v160ZM180-400h160v-160H180v160Zm440 0h160v-160H620v160ZM180-180h160v-160H180v160Zm440 0h160v-160H620v160Z\"/>\n",
              "  </svg>\n",
              "    </button>\n",
              "\n",
              "  <style>\n",
              "    .colab-df-container {\n",
              "      display:flex;\n",
              "      gap: 12px;\n",
              "    }\n",
              "\n",
              "    .colab-df-convert {\n",
              "      background-color: #E8F0FE;\n",
              "      border: none;\n",
              "      border-radius: 50%;\n",
              "      cursor: pointer;\n",
              "      display: none;\n",
              "      fill: #1967D2;\n",
              "      height: 32px;\n",
              "      padding: 0 0 0 0;\n",
              "      width: 32px;\n",
              "    }\n",
              "\n",
              "    .colab-df-convert:hover {\n",
              "      background-color: #E2EBFA;\n",
              "      box-shadow: 0px 1px 2px rgba(60, 64, 67, 0.3), 0px 1px 3px 1px rgba(60, 64, 67, 0.15);\n",
              "      fill: #174EA6;\n",
              "    }\n",
              "\n",
              "    .colab-df-buttons div {\n",
              "      margin-bottom: 4px;\n",
              "    }\n",
              "\n",
              "    [theme=dark] .colab-df-convert {\n",
              "      background-color: #3B4455;\n",
              "      fill: #D2E3FC;\n",
              "    }\n",
              "\n",
              "    [theme=dark] .colab-df-convert:hover {\n",
              "      background-color: #434B5C;\n",
              "      box-shadow: 0px 1px 3px 1px rgba(0, 0, 0, 0.15);\n",
              "      filter: drop-shadow(0px 1px 2px rgba(0, 0, 0, 0.3));\n",
              "      fill: #FFFFFF;\n",
              "    }\n",
              "  </style>\n",
              "\n",
              "    <script>\n",
              "      const buttonEl =\n",
              "        document.querySelector('#df-fac6a7ca-b1f0-41a4-9a1d-bfea2eee567b button.colab-df-convert');\n",
              "      buttonEl.style.display =\n",
              "        google.colab.kernel.accessAllowed ? 'block' : 'none';\n",
              "\n",
              "      async function convertToInteractive(key) {\n",
              "        const element = document.querySelector('#df-fac6a7ca-b1f0-41a4-9a1d-bfea2eee567b');\n",
              "        const dataTable =\n",
              "          await google.colab.kernel.invokeFunction('convertToInteractive',\n",
              "                                                    [key], {});\n",
              "        if (!dataTable) return;\n",
              "\n",
              "        const docLinkHtml = 'Like what you see? Visit the ' +\n",
              "          '<a target=\"_blank\" href=https://colab.research.google.com/notebooks/data_table.ipynb>data table notebook</a>'\n",
              "          + ' to learn more about interactive tables.';\n",
              "        element.innerHTML = '';\n",
              "        dataTable['output_type'] = 'display_data';\n",
              "        await google.colab.output.renderOutput(dataTable, element);\n",
              "        const docLink = document.createElement('div');\n",
              "        docLink.innerHTML = docLinkHtml;\n",
              "        element.appendChild(docLink);\n",
              "      }\n",
              "    </script>\n",
              "  </div>\n",
              "\n",
              "\n",
              "    </div>\n",
              "  </div>\n"
            ],
            "text/plain": [
              "Empty DataFrame\n",
              "Columns: []\n",
              "Index: []"
            ]
          },
          "execution_count": 9,
          "metadata": {},
          "output_type": "execute_result"
        }
      ],
      "source": [
        "# total node counts\n",
        "res = kg.execute_query('''\n",
        "    CALL apoc.meta.stats()\n",
        "    YIELD labels\n",
        "    UNWIND keys(labels) AS nodeLabel\n",
        "    RETURN nodeLabel, labels[nodeLabel] AS nodeCount\n",
        "    ORDER BY nodeCount DESC\n",
        "''')\n",
        "\n",
        "# print(res)\n",
        "# for d in res.records:\n",
        "#     print(d.data())\n",
        "\n",
        "df = pd.DataFrame([{'nodeLabel': d['nodeLabel'],\n",
        "               'nodeCount':d['nodeCount']} for d in res.records])\n",
        "df[:]"
      ]
    },
    {
      "cell_type": "markdown",
      "metadata": {
        "id": "FXCLwdzi0n-Z"
      },
      "source": [
        "# Variables and Utility functions"
      ]
    },
    {
      "cell_type": "code",
      "execution_count": null,
      "metadata": {
        "id": "-wvcFdrE2b2v"
      },
      "outputs": [],
      "source": [
        "from langchain_openai import OpenAIEmbeddings, AzureOpenAIEmbeddings\n",
        "\n",
        "DEFAULT_EMBEDDING_MODEL = \"text-embedding-3-small\"\n",
        "COMMENT_VECTOR_INDEX_NAME = \"commentEmbeddings\"\n",
        "ENTITY_VECTOR_INDEX_NAME = \"entityEmbeddings\"\n",
        "OBSERVATION_EMBEDDING_INDEX_NAME = \"observationEmbeddings\"\n",
        "PROCESS_ELEMENT_EMBEDDING_INDEX_NAME = \"processElementEmbeddings\"\n",
        "VECTOR_INDEX_DIM = 128\n",
        "VECTOR_EQUIVALENCE_THRESHOLD = 0.9\n",
        "DEFAULT_k = 7\n",
        "\n",
        "# embedder = OpenAIEmbeddings(model=DEFAULT_EMBEDDING_MODEL, dimensions=VECTOR_INDEX_DIM)\n",
        "\n",
        "embedder = AzureOpenAIEmbeddings(\n",
        "    azure_endpoint=os.getenv(\"AZURE_OPENAI_ENDPOINT\"),\n",
        "    model=DEFAULT_EMBEDDING_MODEL,\n",
        "    openai_api_version=\"2025-01-01-preview\",\n",
        "    dimensions=VECTOR_INDEX_DIM\n",
        ")"
      ]
    },
    {
      "cell_type": "markdown",
      "metadata": {
        "id": "OFs0vGTAk56Q"
      },
      "source": [
        "## Create Graph and Vector embeddings stores"
      ]
    },
    {
      "cell_type": "code",
      "execution_count": null,
      "metadata": {
        "id": "-dUPJL0zyjk5"
      },
      "outputs": [],
      "source": [
        "from langchain_neo4j import Neo4jVector, Neo4jGraph\n",
        "\n",
        "def create_graph_store():\n",
        "    graph_db = Neo4jGraph(url=os.getenv(\"NEO4J_URI\"), username=os.getenv(\"NEO4J_USERNAME\"), password=os.getenv(\"NEO4J_PASSWORD\"))\n",
        "    graph_db.query(\"CREATE CONSTRAINT commentId IF NOT EXISTS FOR (c:Comment) REQUIRE c.id IS NODE KEY\")\n",
        "    graph_db.query(\"CREATE CONSTRAINT callId IF NOT EXISTS FOR (c:Call) REQUIRE c.id IS NODE KEY\")\n",
        "    graph_db.query(\"CREATE CONSTRAINT entityName IF NOT EXISTS FOR (e:Entity) REQUIRE e.name IS NODE KEY\")\n",
        "    graph_db.query(\"CREATE CONSTRAINT customerId IF NOT EXISTS FOR (c:Customer) REQUIRE c.id IS NODE KEY\")\n",
        "    graph_db.query(\"CREATE CONSTRAINT representativeId IF NOT EXISTS FOR (r:Representative) REQUIRE r.id IS NODE KEY\")\n",
        "    graph_db.query(\"CREATE CONSTRAINT observationId IF NOT EXISTS FOR (o:Observation) REQUIRE o.id IS NODE KEY\")\n",
        "    graph_db.query(\"CREATE CONSTRAINT processElementId IF NOT EXISTS FOR (p:ProcessElement) REQUIRE p.id IS NODE KEY\")\n",
        "    return graph_db"
      ]
    },
    {
      "cell_type": "code",
      "execution_count": null,
      "metadata": {
        "id": "45aN3V2H2ABV"
      },
      "outputs": [],
      "source": [
        "# We're using multiple vector indexes because we want to query for chunks and entities separately\n",
        "def create_vector_stores():\n",
        "    comment_vector_db = Neo4jVector(\n",
        "        embedder,\n",
        "        url=os.getenv(\"NEO4J_URI\"),\n",
        "        username=os.getenv(\"NEO4J_USERNAME\"),\n",
        "        password=os.getenv(\"NEO4J_PASSWORD\"),\n",
        "        index_name=COMMENT_VECTOR_INDEX_NAME,\n",
        "        embedding_dimension=VECTOR_INDEX_DIM,\n",
        "        node_label=\"Comment\"\n",
        "    )\n",
        "    comment_vector_db.create_new_index()\n",
        "    entity_vector_db = Neo4jVector(\n",
        "        embedder,\n",
        "        url=os.getenv(\"NEO4J_URI\"),\n",
        "        username=os.getenv(\"NEO4J_USERNAME\"),\n",
        "        password=os.getenv(\"NEO4J_PASSWORD\"),\n",
        "        index_name=ENTITY_VECTOR_INDEX_NAME,\n",
        "        embedding_dimension=VECTOR_INDEX_DIM,\n",
        "        node_label=\"Entity\"\n",
        "    )\n",
        "    entity_vector_db.create_new_index()\n",
        "    observation_vector_db = Neo4jVector(\n",
        "        embedder,\n",
        "        url=os.getenv(\"NEO4J_URI\"),\n",
        "        username=os.getenv(\"NEO4J_USERNAME\"),\n",
        "        password=os.getenv(\"NEO4J_PASSWORD\"),\n",
        "        index_name=OBSERVATION_EMBEDDING_INDEX_NAME,\n",
        "        embedding_dimension=VECTOR_INDEX_DIM,\n",
        "        node_label=\"Observation\"\n",
        "    )\n",
        "    observation_vector_db.create_new_index()\n",
        "    process_element_vector_db = Neo4jVector(\n",
        "        embedder,\n",
        "        url=os.getenv(\"NEO4J_URI\"),\n",
        "        username=os.getenv(\"NEO4J_USERNAME\"),\n",
        "        password=os.getenv(\"NEO4J_PASSWORD\"),\n",
        "        index_name=PROCESS_ELEMENT_EMBEDDING_INDEX_NAME,\n",
        "        embedding_dimension=VECTOR_INDEX_DIM,\n",
        "        node_label=\"ProcessElement\"\n",
        "    )\n",
        "    process_element_vector_db.create_new_index()\n",
        "    return comment_vector_db, entity_vector_db, observation_vector_db, process_element_vector_db"
      ]
    },
    {
      "cell_type": "markdown",
      "metadata": {
        "id": "h_45RcW-keNI"
      },
      "source": [
        "# Transcript Processing Agent"
      ]
    },
    {
      "cell_type": "code",
      "execution_count": null,
      "metadata": {
        "id": "ajtis_-K3xkm"
      },
      "outputs": [],
      "source": [
        "# from functions import write_transcripts, write_next_comments_relationships, write_entities, embed_nodes\n",
        "from langgraph.graph import StateGraph, START, END\n",
        "from typing import List, NotRequired\n",
        "from typing_extensions import TypedDict\n",
        "# from parallel import MAX_PROCESSES\n",
        "\n",
        "def transcript_processing_agent(file_uri, graph_db):\n",
        "    class Comment(TypedDict):\n",
        "        id: str\n",
        "        content: str\n",
        "        customer: NotRequired[bool]\n",
        "\n",
        "    class State(TypedDict):\n",
        "        comments: List[Comment]\n",
        "\n",
        "    def ingest_transcripts(state):\n",
        "        print(\"Ingesting transcripts...\")\n",
        "        comments = graph_db.query(\"\"\"\n",
        "              CALL apoc.load.json($fileUri)\n",
        "              YIELD value\n",
        "              WITH value\n",
        "              UNWIND value AS _call\n",
        "              MERGE (c:Call {id: _call.call_id})\n",
        "              WITH c, _call\n",
        "              UNWIND _call.messages as m\n",
        "              FOREACH (_ IN CASE WHEN m.sender = \"customer\" THEN [1] ELSE [] END |\n",
        "                  MERGE (:Customer {id: m.customer_id})\n",
        "              )\n",
        "              FOREACH (_ IN CASE WHEN m.sender = \"representative\" THEN [1] ELSE [] END |\n",
        "                  MERGE (:Representative {id: m.representative_id})\n",
        "              )\n",
        "              CREATE (comm:Comment {\n",
        "                  id: randomUUID(),\n",
        "                  timestamp: datetime(m.timestamp),\n",
        "                  content: m.message\n",
        "              })\n",
        "              WITH c, m, comm\n",
        "              MATCH (u:Customer|Representative {\n",
        "                  id: coalesce(m.customer_id, m.representative_id)\n",
        "              })\n",
        "              CREATE (u)-[:MADE]->(comm)\n",
        "              CREATE (c)-[:HAS]->(comm)\n",
        "              RETURN comm.id AS id, comm.content AS content, u:Customer AS customer\n",
        "          \"\"\", {\"fileUri\": file_uri})\n",
        "        print(\"Ingesting transcripts complete!\")\n",
        "        return {\"comments\": comments}\n",
        "\n",
        "    def link_transcript_comments(state):\n",
        "        print(\"Linking transcript comments...\")\n",
        "        # print(\"Writing NEXT_COMMENTS relationships...\")\n",
        "        graph_db.query(\"\"\"\n",
        "            MATCH (c:Call)\n",
        "            MATCH (c)-[:HAS]->(comm:Comment)\n",
        "            WITH c, collect(comm) AS comments\n",
        "            WITH c, apoc.coll.sortMaps(comments, \"^timestamp\") AS sortedComments\n",
        "            MATCH (first:Comment {id: sortedComments[0].id})\n",
        "            MERGE (c)-[:FIRST]->(first)\n",
        "            WITH c, apoc.coll.pairsMin(sortedComments) AS exchanges\n",
        "            UNWIND exchanges AS ex\n",
        "            MATCH (a:Comment {id: ex[0].id})\n",
        "            MATCH (b:Comment {id: ex[1].id})\n",
        "            MERGE (a)-[:NEXT]->(b)\n",
        "        \"\"\")\n",
        "        print(\"Linking transcript comments complete!\")\n",
        "        return {}\n",
        "\n",
        "    def write_comment_embeddings(state):\n",
        "        print(\"Embedding comments and storing...\")\n",
        "        comments = state[\"comments\"]\n",
        "\n",
        "        label=\"Comment\"\n",
        "\n",
        "        # Embed nodes of a given label\n",
        "        # Comment nodes embed the `content` property, while other nodes embed the `description` property\n",
        "        embeddings = embedder.embed_documents([node[\"content\"] if \"content\" in node else node[\"description\"] for node in comments])\n",
        "        graph_db.query(f\"\"\"\n",
        "            WITH $nodes AS nodes\n",
        "            UNWIND nodes AS node\n",
        "            MATCH (n:{label} {{id: node.id}})\n",
        "            WITH n, node\n",
        "            CALL db.create.setNodeVectorProperty(n, \"embedding\", node.embedding)\n",
        "        \"\"\", {\"nodes\": [{**node, \"embedding\": embedding} for node, embedding in zip(comments, embeddings)]})\n",
        "        print(\"Embedding comments and storing complete!\")\n",
        "        return {}\n",
        "\n",
        "    agent_graph = StateGraph(State)\n",
        "    # nodes\n",
        "    agent_graph.add_node(\"ingest_transcripts\", ingest_transcripts)\n",
        "    agent_graph.add_node(\"link_transcript_comments\", link_transcript_comments)\n",
        "    agent_graph.add_node(\"write_comment_embeddings\", write_comment_embeddings)\n",
        "    # edges\n",
        "    agent_graph.add_edge(START, \"ingest_transcripts\")\n",
        "    agent_graph.add_edge(\"ingest_transcripts\", \"link_transcript_comments\")\n",
        "    agent_graph.add_edge(\"ingest_transcripts\", \"write_comment_embeddings\")\n",
        "    agent_graph.add_edge(\"link_transcript_comments\", END)\n",
        "    agent_graph.add_edge(\"write_comment_embeddings\", END)\n",
        "\n",
        "    agent = agent_graph.compile()\n",
        "    return agent"
      ]
    },
    {
      "cell_type": "markdown",
      "metadata": {
        "id": "kppKGKT6l8SY"
      },
      "source": [
        "# Stiching it all together"
      ]
    },
    {
      "cell_type": "code",
      "execution_count": null,
      "metadata": {
        "colab": {
          "base_uri": "https://localhost:8080/",
          "height": 490
        },
        "id": "eCQiZrCt11ej",
        "outputId": "191ad751-65df-4262-eb47-e32336a01767"
      },
      "outputs": [
        {
          "name": "stdout",
          "output_type": "stream",
          "text": [
            "Ingesting transcripts...\n",
            "Ingesting transcripts complete!\n",
            "Linking transcript comments...\n",
            "Embedding comments and storing...\n",
            "Linking transcript comments complete!\n",
            "Embedding comments and storing complete!\n",
            "-------------------------------------------------------------------\n"
          ]
        },
        {
          "data": {
            "application/vnd.google.colaboratory.intrinsic+json": {
              "summary": "{\n  \"name\": \"df[:10]\",\n  \"rows\": 10,\n  \"fields\": [\n    {\n      \"column\": \"id\",\n      \"properties\": {\n        \"dtype\": \"string\",\n        \"num_unique_values\": 10,\n        \"samples\": [\n          \"1593c9ba-9c06-4476-9ef0-f1a66586bab8\",\n          \"f760680b-826f-4062-82a9-d3657847dcc5\",\n          \"18b97e0c-1204-4333-b5d7-b659aec44ffe\"\n        ],\n        \"semantic_type\": \"\",\n        \"description\": \"\"\n      }\n    },\n    {\n      \"column\": \"content\",\n      \"properties\": {\n        \"dtype\": \"string\",\n        \"num_unique_values\": 10,\n        \"samples\": [\n          \"Hello! I'm sorry to hear that. Let me run a diagnostic on your VoIP lines. Can you provide your account number?\",\n          \"Thank you. It looks like there's a temporary issue in your area. Our technicians are working on it. In the meantime, would you be interested in upgrading to a higher-speed plan? We have a special offer for business customers.\",\n          \"Sure! We have a business bundle that includes phone lines, high-speed internet, and cloud services at a discounted rate. Would you like to know the details?\"\n        ],\n        \"semantic_type\": \"\",\n        \"description\": \"\"\n      }\n    },\n    {\n      \"column\": \"customer\",\n      \"properties\": {\n        \"dtype\": \"boolean\",\n        \"num_unique_values\": 1,\n        \"samples\": [\n          false\n        ],\n        \"semantic_type\": \"\",\n        \"description\": \"\"\n      }\n    }\n  ]\n}",
              "type": "dataframe"
            },
            "text/html": [
              "\n",
              "  <div id=\"df-f6d282aa-d31e-4f4a-beb5-4234dca31365\" class=\"colab-df-container\">\n",
              "    <div>\n",
              "<style scoped>\n",
              "    .dataframe tbody tr th:only-of-type {\n",
              "        vertical-align: middle;\n",
              "    }\n",
              "\n",
              "    .dataframe tbody tr th {\n",
              "        vertical-align: top;\n",
              "    }\n",
              "\n",
              "    .dataframe thead th {\n",
              "        text-align: right;\n",
              "    }\n",
              "</style>\n",
              "<table border=\"1\" class=\"dataframe\">\n",
              "  <thead>\n",
              "    <tr style=\"text-align: right;\">\n",
              "      <th></th>\n",
              "      <th>id</th>\n",
              "      <th>content</th>\n",
              "      <th>customer</th>\n",
              "    </tr>\n",
              "  </thead>\n",
              "  <tbody>\n",
              "    <tr>\n",
              "      <th>0</th>\n",
              "      <td>ff92aeed-ec30-44b4-ae1d-abc6a9d3c237</td>\n",
              "      <td>Hello! I'm sorry to hear that. Let me check yo...</td>\n",
              "      <td>False</td>\n",
              "    </tr>\n",
              "    <tr>\n",
              "      <th>1</th>\n",
              "      <td>f760680b-826f-4062-82a9-d3657847dcc5</td>\n",
              "      <td>Thank you. It looks like there's a temporary i...</td>\n",
              "      <td>False</td>\n",
              "    </tr>\n",
              "    <tr>\n",
              "      <th>2</th>\n",
              "      <td>9e5c52ad-6993-416c-a0eb-707a370492f3</td>\n",
              "      <td>With the upgrade, you'll get double the speed ...</td>\n",
              "      <td>False</td>\n",
              "    </tr>\n",
              "    <tr>\n",
              "      <th>3</th>\n",
              "      <td>0957d0a0-46ca-4ac3-9d7a-088009379cf5</td>\n",
              "      <td>Great! I've processed the upgrade. Your new pl...</td>\n",
              "      <td>False</td>\n",
              "    </tr>\n",
              "    <tr>\n",
              "      <th>4</th>\n",
              "      <td>bb8a2a50-8d8a-4ebe-a38b-681b20bb04c1</td>\n",
              "      <td>Hi! Yes, we can assist with that. How many add...</td>\n",
              "      <td>False</td>\n",
              "    </tr>\n",
              "    <tr>\n",
              "      <th>5</th>\n",
              "      <td>18b97e0c-1204-4333-b5d7-b659aec44ffe</td>\n",
              "      <td>Sure! We have a business bundle that includes ...</td>\n",
              "      <td>False</td>\n",
              "    </tr>\n",
              "    <tr>\n",
              "      <th>6</th>\n",
              "      <td>42b2f845-5f0a-47bc-b941-6fd559c8488e</td>\n",
              "      <td>Our business bundle includes 20 phone lines, 5...</td>\n",
              "      <td>False</td>\n",
              "    </tr>\n",
              "    <tr>\n",
              "      <th>7</th>\n",
              "      <td>58dc56f3-2bd9-4bcb-8e7e-88d1e01a34f2</td>\n",
              "      <td>Excellent choice! I'll process the order for y...</td>\n",
              "      <td>False</td>\n",
              "    </tr>\n",
              "    <tr>\n",
              "      <th>8</th>\n",
              "      <td>1593c9ba-9c06-4476-9ef0-f1a66586bab8</td>\n",
              "      <td>Hello! I'm sorry to hear that. Let me run a di...</td>\n",
              "      <td>False</td>\n",
              "    </tr>\n",
              "    <tr>\n",
              "      <th>9</th>\n",
              "      <td>175be3c0-baf1-43b0-a1d9-e03bc3ad7dc9</td>\n",
              "      <td>Thank you. I see that there is an issue with t...</td>\n",
              "      <td>False</td>\n",
              "    </tr>\n",
              "  </tbody>\n",
              "</table>\n",
              "</div>\n",
              "    <div class=\"colab-df-buttons\">\n",
              "\n",
              "  <div class=\"colab-df-container\">\n",
              "    <button class=\"colab-df-convert\" onclick=\"convertToInteractive('df-f6d282aa-d31e-4f4a-beb5-4234dca31365')\"\n",
              "            title=\"Convert this dataframe to an interactive table.\"\n",
              "            style=\"display:none;\">\n",
              "\n",
              "  <svg xmlns=\"http://www.w3.org/2000/svg\" height=\"24px\" viewBox=\"0 -960 960 960\">\n",
              "    <path d=\"M120-120v-720h720v720H120Zm60-500h600v-160H180v160Zm220 220h160v-160H400v160Zm0 220h160v-160H400v160ZM180-400h160v-160H180v160Zm440 0h160v-160H620v160ZM180-180h160v-160H180v160Zm440 0h160v-160H620v160Z\"/>\n",
              "  </svg>\n",
              "    </button>\n",
              "\n",
              "  <style>\n",
              "    .colab-df-container {\n",
              "      display:flex;\n",
              "      gap: 12px;\n",
              "    }\n",
              "\n",
              "    .colab-df-convert {\n",
              "      background-color: #E8F0FE;\n",
              "      border: none;\n",
              "      border-radius: 50%;\n",
              "      cursor: pointer;\n",
              "      display: none;\n",
              "      fill: #1967D2;\n",
              "      height: 32px;\n",
              "      padding: 0 0 0 0;\n",
              "      width: 32px;\n",
              "    }\n",
              "\n",
              "    .colab-df-convert:hover {\n",
              "      background-color: #E2EBFA;\n",
              "      box-shadow: 0px 1px 2px rgba(60, 64, 67, 0.3), 0px 1px 3px 1px rgba(60, 64, 67, 0.15);\n",
              "      fill: #174EA6;\n",
              "    }\n",
              "\n",
              "    .colab-df-buttons div {\n",
              "      margin-bottom: 4px;\n",
              "    }\n",
              "\n",
              "    [theme=dark] .colab-df-convert {\n",
              "      background-color: #3B4455;\n",
              "      fill: #D2E3FC;\n",
              "    }\n",
              "\n",
              "    [theme=dark] .colab-df-convert:hover {\n",
              "      background-color: #434B5C;\n",
              "      box-shadow: 0px 1px 3px 1px rgba(0, 0, 0, 0.15);\n",
              "      filter: drop-shadow(0px 1px 2px rgba(0, 0, 0, 0.3));\n",
              "      fill: #FFFFFF;\n",
              "    }\n",
              "  </style>\n",
              "\n",
              "    <script>\n",
              "      const buttonEl =\n",
              "        document.querySelector('#df-f6d282aa-d31e-4f4a-beb5-4234dca31365 button.colab-df-convert');\n",
              "      buttonEl.style.display =\n",
              "        google.colab.kernel.accessAllowed ? 'block' : 'none';\n",
              "\n",
              "      async function convertToInteractive(key) {\n",
              "        const element = document.querySelector('#df-f6d282aa-d31e-4f4a-beb5-4234dca31365');\n",
              "        const dataTable =\n",
              "          await google.colab.kernel.invokeFunction('convertToInteractive',\n",
              "                                                    [key], {});\n",
              "        if (!dataTable) return;\n",
              "\n",
              "        const docLinkHtml = 'Like what you see? Visit the ' +\n",
              "          '<a target=\"_blank\" href=https://colab.research.google.com/notebooks/data_table.ipynb>data table notebook</a>'\n",
              "          + ' to learn more about interactive tables.';\n",
              "        element.innerHTML = '';\n",
              "        dataTable['output_type'] = 'display_data';\n",
              "        await google.colab.output.renderOutput(dataTable, element);\n",
              "        const docLink = document.createElement('div');\n",
              "        docLink.innerHTML = docLinkHtml;\n",
              "        element.appendChild(docLink);\n",
              "      }\n",
              "    </script>\n",
              "  </div>\n",
              "\n",
              "\n",
              "<div id=\"df-094439fb-ffd1-4696-97dd-761f0f54ea25\">\n",
              "  <button class=\"colab-df-quickchart\" onclick=\"quickchart('df-094439fb-ffd1-4696-97dd-761f0f54ea25')\"\n",
              "            title=\"Suggest charts\"\n",
              "            style=\"display:none;\">\n",
              "\n",
              "<svg xmlns=\"http://www.w3.org/2000/svg\" height=\"24px\"viewBox=\"0 0 24 24\"\n",
              "     width=\"24px\">\n",
              "    <g>\n",
              "        <path d=\"M19 3H5c-1.1 0-2 .9-2 2v14c0 1.1.9 2 2 2h14c1.1 0 2-.9 2-2V5c0-1.1-.9-2-2-2zM9 17H7v-7h2v7zm4 0h-2V7h2v10zm4 0h-2v-4h2v4z\"/>\n",
              "    </g>\n",
              "</svg>\n",
              "  </button>\n",
              "\n",
              "<style>\n",
              "  .colab-df-quickchart {\n",
              "      --bg-color: #E8F0FE;\n",
              "      --fill-color: #1967D2;\n",
              "      --hover-bg-color: #E2EBFA;\n",
              "      --hover-fill-color: #174EA6;\n",
              "      --disabled-fill-color: #AAA;\n",
              "      --disabled-bg-color: #DDD;\n",
              "  }\n",
              "\n",
              "  [theme=dark] .colab-df-quickchart {\n",
              "      --bg-color: #3B4455;\n",
              "      --fill-color: #D2E3FC;\n",
              "      --hover-bg-color: #434B5C;\n",
              "      --hover-fill-color: #FFFFFF;\n",
              "      --disabled-bg-color: #3B4455;\n",
              "      --disabled-fill-color: #666;\n",
              "  }\n",
              "\n",
              "  .colab-df-quickchart {\n",
              "    background-color: var(--bg-color);\n",
              "    border: none;\n",
              "    border-radius: 50%;\n",
              "    cursor: pointer;\n",
              "    display: none;\n",
              "    fill: var(--fill-color);\n",
              "    height: 32px;\n",
              "    padding: 0;\n",
              "    width: 32px;\n",
              "  }\n",
              "\n",
              "  .colab-df-quickchart:hover {\n",
              "    background-color: var(--hover-bg-color);\n",
              "    box-shadow: 0 1px 2px rgba(60, 64, 67, 0.3), 0 1px 3px 1px rgba(60, 64, 67, 0.15);\n",
              "    fill: var(--button-hover-fill-color);\n",
              "  }\n",
              "\n",
              "  .colab-df-quickchart-complete:disabled,\n",
              "  .colab-df-quickchart-complete:disabled:hover {\n",
              "    background-color: var(--disabled-bg-color);\n",
              "    fill: var(--disabled-fill-color);\n",
              "    box-shadow: none;\n",
              "  }\n",
              "\n",
              "  .colab-df-spinner {\n",
              "    border: 2px solid var(--fill-color);\n",
              "    border-color: transparent;\n",
              "    border-bottom-color: var(--fill-color);\n",
              "    animation:\n",
              "      spin 1s steps(1) infinite;\n",
              "  }\n",
              "\n",
              "  @keyframes spin {\n",
              "    0% {\n",
              "      border-color: transparent;\n",
              "      border-bottom-color: var(--fill-color);\n",
              "      border-left-color: var(--fill-color);\n",
              "    }\n",
              "    20% {\n",
              "      border-color: transparent;\n",
              "      border-left-color: var(--fill-color);\n",
              "      border-top-color: var(--fill-color);\n",
              "    }\n",
              "    30% {\n",
              "      border-color: transparent;\n",
              "      border-left-color: var(--fill-color);\n",
              "      border-top-color: var(--fill-color);\n",
              "      border-right-color: var(--fill-color);\n",
              "    }\n",
              "    40% {\n",
              "      border-color: transparent;\n",
              "      border-right-color: var(--fill-color);\n",
              "      border-top-color: var(--fill-color);\n",
              "    }\n",
              "    60% {\n",
              "      border-color: transparent;\n",
              "      border-right-color: var(--fill-color);\n",
              "    }\n",
              "    80% {\n",
              "      border-color: transparent;\n",
              "      border-right-color: var(--fill-color);\n",
              "      border-bottom-color: var(--fill-color);\n",
              "    }\n",
              "    90% {\n",
              "      border-color: transparent;\n",
              "      border-bottom-color: var(--fill-color);\n",
              "    }\n",
              "  }\n",
              "</style>\n",
              "\n",
              "  <script>\n",
              "    async function quickchart(key) {\n",
              "      const quickchartButtonEl =\n",
              "        document.querySelector('#' + key + ' button');\n",
              "      quickchartButtonEl.disabled = true;  // To prevent multiple clicks.\n",
              "      quickchartButtonEl.classList.add('colab-df-spinner');\n",
              "      try {\n",
              "        const charts = await google.colab.kernel.invokeFunction(\n",
              "            'suggestCharts', [key], {});\n",
              "      } catch (error) {\n",
              "        console.error('Error during call to suggestCharts:', error);\n",
              "      }\n",
              "      quickchartButtonEl.classList.remove('colab-df-spinner');\n",
              "      quickchartButtonEl.classList.add('colab-df-quickchart-complete');\n",
              "    }\n",
              "    (() => {\n",
              "      let quickchartButtonEl =\n",
              "        document.querySelector('#df-094439fb-ffd1-4696-97dd-761f0f54ea25 button');\n",
              "      quickchartButtonEl.style.display =\n",
              "        google.colab.kernel.accessAllowed ? 'block' : 'none';\n",
              "    })();\n",
              "  </script>\n",
              "</div>\n",
              "\n",
              "    </div>\n",
              "  </div>\n"
            ],
            "text/plain": [
              "                                     id  \\\n",
              "0  ff92aeed-ec30-44b4-ae1d-abc6a9d3c237   \n",
              "1  f760680b-826f-4062-82a9-d3657847dcc5   \n",
              "2  9e5c52ad-6993-416c-a0eb-707a370492f3   \n",
              "3  0957d0a0-46ca-4ac3-9d7a-088009379cf5   \n",
              "4  bb8a2a50-8d8a-4ebe-a38b-681b20bb04c1   \n",
              "5  18b97e0c-1204-4333-b5d7-b659aec44ffe   \n",
              "6  42b2f845-5f0a-47bc-b941-6fd559c8488e   \n",
              "7  58dc56f3-2bd9-4bcb-8e7e-88d1e01a34f2   \n",
              "8  1593c9ba-9c06-4476-9ef0-f1a66586bab8   \n",
              "9  175be3c0-baf1-43b0-a1d9-e03bc3ad7dc9   \n",
              "\n",
              "                                             content  customer  \n",
              "0  Hello! I'm sorry to hear that. Let me check yo...     False  \n",
              "1  Thank you. It looks like there's a temporary i...     False  \n",
              "2  With the upgrade, you'll get double the speed ...     False  \n",
              "3  Great! I've processed the upgrade. Your new pl...     False  \n",
              "4  Hi! Yes, we can assist with that. How many add...     False  \n",
              "5  Sure! We have a business bundle that includes ...     False  \n",
              "6  Our business bundle includes 20 phone lines, 5...     False  \n",
              "7  Excellent choice! I'll process the order for y...     False  \n",
              "8  Hello! I'm sorry to hear that. Let me run a di...     False  \n",
              "9  Thank you. I see that there is an issue with t...     False  "
            ]
          },
          "execution_count": 14,
          "metadata": {},
          "output_type": "execute_result"
        }
      ],
      "source": [
        "# Create the DB connection (and create constraints)\n",
        "graph_db = create_graph_store()\n",
        "\n",
        "comment_vector_db, entity_vector_db, observation_vector_db, process_element_vector_db = create_vector_stores()\n",
        "\n",
        "file_uri = \"https://storage.googleapis.com/neo4j-se-jeff-davis/callcenter/transcripts.json\"\n",
        "\n",
        "res = transcript_processing_agent(file_uri, graph_db).invoke({\"comments\": []})\n",
        "\n",
        "print('-------------------------------------------------------------------')\n",
        "\n",
        "# print(res)\n",
        "\n",
        "df = pd.DataFrame(res['comments'])\n",
        "df[:10]"
      ]
    }
  ],
  "metadata": {
    "colab": {
      "provenance": [],
      "toc_visible": true
    },
    "kernelspec": {
      "display_name": "Python 3",
      "name": "python3"
    },
    "language_info": {
      "name": "python"
    }
  },
  "nbformat": 4,
  "nbformat_minor": 0
}